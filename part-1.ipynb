{
    "metadata": {
        "kernelspec": {
            "name": "SQL",
            "display_name": "SQL",
            "language": "sql"
        },
        "language_info": {
            "name": "sql",
            "version": ""
        }
    },
    "nbformat_minor": 2,
    "nbformat": 4,
    "cells": [
        {
            "cell_type": "markdown",
            "source": [
                "This notebook has been created along with the walk through of Reporting in SQL"
            ],
            "metadata": {
                "azdata_cell_guid": "a7d3d09e-bc9c-4e79-a443-55818434157f"
            },
            "attachments": {}
        },
        {
            "cell_type": "markdown",
            "source": [
                "Number of distinct player in each sport"
            ],
            "metadata": {
                "azdata_cell_guid": "481fb274-602d-4dfa-81f9-4c6f0968d507"
            },
            "attachments": {}
        },
        {
            "cell_type": "code",
            "source": [
                "SELECT sport, COUNT(DISTINCT(athlete_id))\r\n",
                "FROM summer_games\r\n",
                "GROUP BY sport\r\n",
                "ORDER BY COUNT(DISTINCT(athlete_id)) DESC"
            ],
            "metadata": {
                "azdata_cell_guid": "cadf46d4-a861-43f5-a515-69227f3fa01f",
                "language": "sql"
            },
            "outputs": [
                {
                    "output_type": "display_data",
                    "data": {
                        "text/html": "(3 row(s) affected)"
                    },
                    "metadata": {}
                },
                {
                    "output_type": "display_data",
                    "data": {
                        "text/html": "Total execution time: 00:00:00.008"
                    },
                    "metadata": {}
                },
                {
                    "output_type": "execute_result",
                    "metadata": {},
                    "execution_count": 8,
                    "data": {
                        "application/vnd.dataresource+json": {
                            "schema": {
                                "fields": [
                                    {
                                        "name": "sport"
                                    },
                                    {
                                        "name": "count"
                                    }
                                ]
                            },
                            "data": [
                                {
                                    "0": "Track and Field",
                                    "1": "2269"
                                },
                                {
                                    "0": "Swimming",
                                    "1": "942"
                                },
                                {
                                    "0": "Gymnastics",
                                    "1": "196"
                                }
                            ]
                        },
                        "text/html": [
                            "<table>",
                            "<tr><th>sport</th><th>count</th></tr>",
                            "<tr><td>Track and Field</td><td>2269</td></tr>",
                            "<tr><td>Swimming</td><td>942</td></tr>",
                            "<tr><td>Gymnastics</td><td>196</td></tr>",
                            "</table>"
                        ]
                    }
                }
            ],
            "execution_count": 8
        },
        {
            "cell_type": "markdown",
            "source": [
                "to create scatter plot between events and athletes"
            ],
            "metadata": {
                "language": "sql",
                "azdata_cell_guid": "80cdd8c3-7e1a-4dab-a55a-2fd4cf38fdde"
            },
            "attachments": {}
        },
        {
            "cell_type": "code",
            "source": [
                "SELECT\r\n",
                "    sport,\r\n",
                "    COUNT(DISTINCT(event)) as \"Number of events\",\r\n",
                "    count(DISTINCT(athlete_id)) as \"Number of athletes\"\r\n",
                "FROM \r\n",
                "    summer_games\r\n",
                "GROUP BY\r\n",
                "    sport\r\n",
                "ORDER BY\r\n",
                "    COUNT(DISTINCT(event)) DESC"
            ],
            "metadata": {
                "language": "sql",
                "azdata_cell_guid": "5353ee44-6363-4317-acf3-a746b41ff28a"
            },
            "outputs": [
                {
                    "output_type": "display_data",
                    "data": {
                        "text/html": "(3 row(s) affected)"
                    },
                    "metadata": {}
                },
                {
                    "output_type": "display_data",
                    "data": {
                        "text/html": "Total execution time: 00:00:00.015"
                    },
                    "metadata": {}
                },
                {
                    "output_type": "execute_result",
                    "metadata": {},
                    "execution_count": 16,
                    "data": {
                        "application/vnd.dataresource+json": {
                            "schema": {
                                "fields": [
                                    {
                                        "name": "sport"
                                    },
                                    {
                                        "name": "Number of events"
                                    },
                                    {
                                        "name": "Number of athletes"
                                    }
                                ]
                            },
                            "data": [
                                {
                                    "0": "Track and Field",
                                    "1": "47",
                                    "2": "2269"
                                },
                                {
                                    "0": "Swimming",
                                    "1": "34",
                                    "2": "942"
                                },
                                {
                                    "0": "Gymnastics",
                                    "1": "14",
                                    "2": "196"
                                }
                            ]
                        },
                        "text/html": [
                            "<table>",
                            "<tr><th>sport</th><th>Number of events</th><th>Number of athletes</th></tr>",
                            "<tr><td>Track and Field</td><td>47</td><td>2269</td></tr>",
                            "<tr><td>Swimming</td><td>34</td><td>942</td></tr>",
                            "<tr><td>Gymnastics</td><td>14</td><td>196</td></tr>",
                            "</table>"
                        ]
                    }
                }
            ],
            "execution_count": 16
        },
        {
            "cell_type": "markdown",
            "source": [
                "- Create a report that shows `region` and `age_of_oldest_athlete`.\n",
                "- Include all three tables by running two separate `JOIN` statements.\n",
                "- Group by the non-aggregated field.\n",
                "- Alias each table `AS` the first letter in the table (in lower case)."
            ],
            "metadata": {
                "language": "sql",
                "azdata_cell_guid": "eeb0eb74-5257-407f-b87a-0515c06b2073"
            },
            "attachments": {}
        },
        {
            "cell_type": "code",
            "source": [
                "SELECT region,\r\n",
                "    MAX(a.age) as \"oldest player age\"\r\n",
                "FROM summer_games as sg \r\n",
                "JOIN athletes as a on a.id = sg.athlete_id\r\n",
                "JOIN countries as c on c.id = sg.country_id\r\n",
                "GROUP BY region\r\n",
                "ORDER BY MAX(a.age) DESC"
            ],
            "metadata": {
                "language": "sql",
                "azdata_cell_guid": "c84b048c-245a-4ce0-a5c0-33f88657c989"
            },
            "outputs": [
                {
                    "output_type": "display_data",
                    "data": {
                        "text/html": "(12 row(s) affected)"
                    },
                    "metadata": {}
                },
                {
                    "output_type": "display_data",
                    "data": {
                        "text/html": "Total execution time: 00:00:00.007"
                    },
                    "metadata": {}
                },
                {
                    "output_type": "execute_result",
                    "metadata": {},
                    "execution_count": 24,
                    "data": {
                        "application/vnd.dataresource+json": {
                            "schema": {
                                "fields": [
                                    {
                                        "name": "region"
                                    },
                                    {
                                        "name": "oldest player age"
                                    }
                                ]
                            },
                            "data": [
                                {
                                    "0": "WESTERN EUROPE",
                                    "1": "46"
                                },
                                {
                                    "0": "ASIA (EX. NEAR EAST)",
                                    "1": "44"
                                },
                                {
                                    "0": "LATIN AMER. & CARIB",
                                    "1": "42"
                                },
                                {
                                    "0": "C.W. OF IND. STATES",
                                    "1": "41"
                                },
                                {
                                    "0": "NORTHERN AMERICA",
                                    "1": "41"
                                },
                                {
                                    "0": "NORTHERN AFRICA",
                                    "1": "41"
                                },
                                {
                                    "0": "OCEANIA",
                                    "1": "40"
                                },
                                {
                                    "0": "NEAR EAST",
                                    "1": "40"
                                },
                                {
                                    "0": "EASTERN EUROPE",
                                    "1": "39"
                                },
                                {
                                    "0": "BALTICS",
                                    "1": "39"
                                },
                                {
                                    "0": "SUB-SAHARAN AFRICA",
                                    "1": "38"
                                },
                                {
                                    "0": "NULL",
                                    "1": "36"
                                }
                            ]
                        },
                        "text/html": [
                            "<table>",
                            "<tr><th>region</th><th>oldest player age</th></tr>",
                            "<tr><td>WESTERN EUROPE</td><td>46</td></tr>",
                            "<tr><td>ASIA (EX. NEAR EAST)</td><td>44</td></tr>",
                            "<tr><td>LATIN AMER. &amp; CARIB</td><td>42</td></tr>",
                            "<tr><td>C.W. OF IND. STATES</td><td>41</td></tr>",
                            "<tr><td>NORTHERN AMERICA</td><td>41</td></tr>",
                            "<tr><td>NORTHERN AFRICA</td><td>41</td></tr>",
                            "<tr><td>OCEANIA</td><td>40</td></tr>",
                            "<tr><td>NEAR EAST</td><td>40</td></tr>",
                            "<tr><td>EASTERN EUROPE</td><td>39</td></tr>",
                            "<tr><td>BALTICS</td><td>39</td></tr>",
                            "<tr><td>SUB-SAHARAN AFRICA</td><td>38</td></tr>",
                            "<tr><td>NULL</td><td>36</td></tr>",
                            "</table>"
                        ]
                    }
                }
            ],
            "execution_count": 24
        },
        {
            "cell_type": "markdown",
            "source": [
                "Since the company will be involved in both summer sports and winter sports, it is beneficial to look at all sports in one centralized report.\n",
                "\n",
                "Your task is to create a query that shows the unique number of events held for each sport. Note that since no relationships exist between these two tables, you will need to use a `UNION` instead of a `JOIN`"
            ],
            "metadata": {
                "azdata_cell_guid": "a601f358-a083-4c59-a2ff-fe199447062b"
            },
            "attachments": {}
        },
        {
            "cell_type": "code",
            "source": [
                "SELECT sport,\r\n",
                "    COUNT(DISTINCT(EVENT)) as events\r\n",
                "FROM summer_games\r\n",
                "GROUP BY sport\r\n",
                "\r\n",
                "UNION\r\n",
                "SELECT sport,\r\n",
                "    COUNT(DISTINCT(EVENT)) as events\r\n",
                "FROM winter_games\r\n",
                "GROUP BY sport\r\n",
                "\r\n",
                "ORDER BY events DESC"
            ],
            "metadata": {
                "azdata_cell_guid": "4b7331d4-9dab-4088-89de-bc83f37212a5",
                "language": "sql"
            },
            "outputs": [
                {
                    "output_type": "display_data",
                    "data": {
                        "text/html": "(6 row(s) affected)"
                    },
                    "metadata": {}
                },
                {
                    "output_type": "display_data",
                    "data": {
                        "text/html": "Total execution time: 00:00:00.015"
                    },
                    "metadata": {}
                },
                {
                    "output_type": "execute_result",
                    "metadata": {},
                    "execution_count": 32,
                    "data": {
                        "application/vnd.dataresource+json": {
                            "schema": {
                                "fields": [
                                    {
                                        "name": "sport"
                                    },
                                    {
                                        "name": "events"
                                    }
                                ]
                            },
                            "data": [
                                {
                                    "0": "Track and Field",
                                    "1": "47"
                                },
                                {
                                    "0": "Swimming",
                                    "1": "34"
                                },
                                {
                                    "0": "Gymnastics",
                                    "1": "14"
                                },
                                {
                                    "0": "Cross Country Skiing",
                                    "1": "12"
                                },
                                {
                                    "0": "Alpine Skiing",
                                    "1": "10"
                                },
                                {
                                    "0": "Biathlon",
                                    "1": "10"
                                }
                            ]
                        },
                        "text/html": [
                            "<table>",
                            "<tr><th>sport</th><th>events</th></tr>",
                            "<tr><td>Track and Field</td><td>47</td></tr>",
                            "<tr><td>Swimming</td><td>34</td></tr>",
                            "<tr><td>Gymnastics</td><td>14</td></tr>",
                            "<tr><td>Cross Country Skiing</td><td>12</td></tr>",
                            "<tr><td>Alpine Skiing</td><td>10</td></tr>",
                            "<tr><td>Biathlon</td><td>10</td></tr>",
                            "</table>"
                        ]
                    }
                }
            ],
            "execution_count": 32
        },
        {
            "cell_type": "code",
            "source": [
                "SELECT a.name,\r\n",
                "    SUM(gold) as \"Number of gold medals\"\r\n",
                "FROM summer_games as sg\r\n",
                "JOIN athletes as a on a.id = sg.athlete_id\r\n",
                "GROUP BY\r\n",
                "    a.name\r\n",
                "HAVING SUM(gold) is not null\r\n",
                "ORDER BY SUM(gold) DESC"
            ],
            "metadata": {
                "azdata_cell_guid": "e1c49018-f1b7-46d9-8921-abba302b6ff2",
                "language": "sql"
            },
            "outputs": [
                {
                    "output_type": "display_data",
                    "data": {
                        "text/html": "(131 row(s) affected)"
                    },
                    "metadata": {}
                },
                {
                    "output_type": "display_data",
                    "data": {
                        "text/html": "Total execution time: 00:00:00.015"
                    },
                    "metadata": {}
                },
                {
                    "output_type": "execute_result",
                    "metadata": {},
                    "execution_count": 39,
                    "data": {
                        "application/vnd.dataresource+json": {
                            "schema": {
                                "fields": [
                                    {
                                        "name": "name"
                                    },
                                    {
                                        "name": "Number of gold medals"
                                    }
                                ]
                            },
                            "data": [
                                {
                                    "0": "Michael Fred Phelps, II",
                                    "1": "5.0"
                                },
                                {
                                    "0": "Kathleen Genevieve \"Katie\" Ledecky",
                                    "1": "4.0"
                                },
                                {
                                    "0": "Simone Arianne Biles",
                                    "1": "4.0"
                                },
                                {
                                    "0": "Katinka Hossz",
                                    "1": "3.0"
                                },
                                {
                                    "0": "Usain St. Leo Bolt",
                                    "1": "3.0"
                                },
                                {
                                    "0": "Ryan Murphy",
                                    "1": "3.0"
                                },
                                {
                                    "0": "Elaine Thompson",
                                    "1": "2.0"
                                },
                                {
                                    "0": "Kohei Uchimura",
                                    "1": "2.0"
                                },
                                {
                                    "0": "Max Antony Whitlock",
                                    "1": "2.0"
                                },
                                {
                                    "0": "Nathan Ghar-Jun Adrian",
                                    "1": "2.0"
                                },
                                {
                                    "0": "Simone Ashley Manuel",
                                    "1": "2.0"
                                },
                                {
                                    "0": "Caeleb Remel Dressel",
                                    "1": "2.0"
                                },
                                {
                                    "0": "Mohamed Muktar Jama \"Mo\" Farah",
                                    "1": "2.0"
                                },
                                {
                                    "0": "Lilly King",
                                    "1": "2.0"
                                },
                                {
                                    "0": "Anthony Lee Ervin",
                                    "1": "2.0"
                                },
                                {
                                    "0": "Madeline Jane \"Maya\" DiRado",
                                    "1": "2.0"
                                },
                                {
                                    "0": "Allyson Michelle Felix",
                                    "1": "2.0"
                                },
                                {
                                    "0": "Tianna Madison-Bartoletta",
                                    "1": "2.0"
                                },
                                {
                                    "0": "Ashton James Eaton",
                                    "1": "1.0"
                                },
                                {
                                    "0": "Conor James Dwyer",
                                    "1": "1.0"
                                },
                                {
                                    "0": "Morolake Akinosun",
                                    "1": "1.0"
                                },
                                {
                                    "0": "Ryan Steven Lochte",
                                    "1": "1.0"
                                },
                                {
                                    "0": "Matthew Gerald \"Matt\" Centrowitz, Jr.",
                                    "1": "1.0"
                                },
                                {
                                    "0": "Arman Hall",
                                    "1": "1.0"
                                },
                                {
                                    "0": "Sarah Frederica Sjstrm",
                                    "1": "1.0"
                                },
                                {
                                    "0": "Dalilah Muhammad",
                                    "1": "1.0"
                                },
                                {
                                    "0": "Wang Zhen",
                                    "1": "1.0"
                                },
                                {
                                    "0": "David Lekuta Rudisha",
                                    "1": "1.0"
                                },
                                {
                                    "0": "Kyle Chalmers",
                                    "1": "1.0"
                                },
                                {
                                    "0": "Eliud Kipchoge",
                                    "1": "1.0"
                                },
                                {
                                    "0": "Tony McQuay",
                                    "1": "1.0"
                                },
                                {
                                    "0": "Mireia Belmonte Garca",
                                    "1": "1.0"
                                },
                                {
                                    "0": "Catherine Michelle \"Katie\" Meili",
                                    "1": "1.0"
                                },
                                {
                                    "0": "Taylor Ellis-Watson",
                                    "1": "1.0"
                                },
                                {
                                    "0": "Almaz Ayana Eba",
                                    "1": "1.0"
                                },
                                {
                                    "0": "Aliya Farkhatovna Mustafina",
                                    "1": "1.0"
                                },
                                {
                                    "0": "Ferry Weertman",
                                    "1": "1.0"
                                },
                                {
                                    "0": "Allison Rodgers Schmitt",
                                    "1": "1.0"
                                },
                                {
                                    "0": "Thomas Rhler",
                                    "1": "1.0"
                                },
                                {
                                    "0": "Cody Miller",
                                    "1": "1.0"
                                },
                                {
                                    "0": "English Gardner",
                                    "1": "1.0"
                                },
                                {
                                    "0": "Kerron Stephon Clement",
                                    "1": "1.0"
                                },
                                {
                                    "0": "Alexandra Rose \"Aly\" Raisman",
                                    "1": "1.0"
                                },
                                {
                                    "0": "Nickel Ashmeade",
                                    "1": "1.0"
                                },
                                {
                                    "0": "Kathleen Baker",
                                    "1": "1.0"
                                },
                                {
                                    "0": "Yohan Blake",
                                    "1": "1.0"
                                },
                                {
                                    "0": "Frentorish \"Tori\" Bowie",
                                    "1": "1.0"
                                },
                                {
                                    "0": "Anita Wodarczyk",
                                    "1": "1.0"
                                },
                                {
                                    "0": "Dmitry Igorevich Balandin",
                                    "1": "1.0"
                                },
                                {
                                    "0": "Kemar Bailey-Cole",
                                    "1": "1.0"
                                },
                                {
                                    "0": "Bronte Campbell",
                                    "1": "1.0"
                                },
                                {
                                    "0": "David Verburg",
                                    "1": "1.0"
                                },
                                {
                                    "0": "Wayde van Niekerk",
                                    "1": "1.0"
                                },
                                {
                                    "0": "Jemima Jelagat Sumgong",
                                    "1": "1.0"
                                },
                                {
                                    "0": "Penelope \"Penny\" Oleksiak",
                                    "1": "1.0"
                                },
                                {
                                    "0": "Jevaughn Minzie",
                                    "1": "1.0"
                                },
                                {
                                    "0": "Phyllis Chanez Francis",
                                    "1": "1.0"
                                },
                                {
                                    "0": "Madison \"Madi\" Wilson",
                                    "1": "1.0"
                                },
                                {
                                    "0": "Jeffrey \"Jeff\" Henderson",
                                    "1": "1.0"
                                },
                                {
                                    "0": "Yusuke Tanaka",
                                    "1": "1.0"
                                },
                                {
                                    "0": "Emma McKeon",
                                    "1": "1.0"
                                },
                                {
                                    "0": "Olivia Smoliga",
                                    "1": "1.0"
                                },
                                {
                                    "0": "Aikaterini \"Ekaterini\" Stefanidi",
                                    "1": "1.0"
                                },
                                {
                                    "0": "Ruth Beita Vila",
                                    "1": "1.0"
                                },
                                {
                                    "0": "LaShawn Merritt",
                                    "1": "1.0"
                                },
                                {
                                    "0": "James \"Jimmy\" Feigen",
                                    "1": "1.0"
                                },
                                {
                                    "0": "Sanne Wevers",
                                    "1": "1.0"
                                },
                                {
                                    "0": "Kevin Cordes",
                                    "1": "1.0"
                                },
                                {
                                    "0": "Ri Se-Gwang",
                                    "1": "1.0"
                                },
                                {
                                    "0": "Gregorio Paltrinieri",
                                    "1": "1.0"
                                },
                                {
                                    "0": "Ruth Jebet",
                                    "1": "1.0"
                                },
                                {
                                    "0": "Gil Roberts",
                                    "1": "1.0"
                                },
                                {
                                    "0": "David Edward Plummer",
                                    "1": "1.0"
                                },
                                {
                                    "0": "Rie Kaneto",
                                    "1": "1.0"
                                },
                                {
                                    "0": "Koji Yamamuro",
                                    "1": "1.0"
                                },
                                {
                                    "0": "Caterine Ibargn Mena",
                                    "1": "1.0"
                                },
                                {
                                    "0": "Conseslus Kipruto",
                                    "1": "1.0"
                                },
                                {
                                    "0": "Derek Drouin",
                                    "1": "1.0"
                                },
                                {
                                    "0": "Kyle Clemons",
                                    "1": "1.0"
                                },
                                {
                                    "0": "Matej Tth",
                                    "1": "1.0"
                                },
                                {
                                    "0": "Sara Kolak",
                                    "1": "1.0"
                                },
                                {
                                    "0": "Michelle Denee Carter",
                                    "1": "1.0"
                                },
                                {
                                    "0": "Mokgadi Caster Semenya",
                                    "1": "1.0"
                                },
                                {
                                    "0": "Oleh Yuriyovych Verniaiev",
                                    "1": "1.0"
                                },
                                {
                                    "0": "Liu Hong",
                                    "1": "1.0"
                                },
                                {
                                    "0": "Sun Yang",
                                    "1": "1.0"
                                },
                                {
                                    "0": "Francena Lynette McCorory",
                                    "1": "1.0"
                                },
                                {
                                    "0": "Ryan Held",
                                    "1": "1.0"
                                },
                                {
                                    "0": "Melissa Jeanette \"Missy\" Franklin",
                                    "1": "1.0"
                                },
                                {
                                    "0": "Dana Whitney Vollmer (-Grant)",
                                    "1": "1.0"
                                },
                                {
                                    "0": "John \"Jack\" Conger",
                                    "1": "1.0"
                                },
                                {
                                    "0": "Natasha Monique Hastings",
                                    "1": "1.0"
                                },
                                {
                                    "0": "Gabrielle Christina Victoria \"Gabby\" Douglas",
                                    "1": "1.0"
                                },
                                {
                                    "0": "Lauren Zoe \"Laurie\" Hernandez",
                                    "1": "1.0"
                                },
                                {
                                    "0": "Christian Taylor",
                                    "1": "1.0"
                                },
                                {
                                    "0": "Dilshod Nazarov",
                                    "1": "1.0"
                                },
                                {
                                    "0": "Francis Townley Haas",
                                    "1": "1.0"
                                },
                                {
                                    "0": "Ryan Crouser",
                                    "1": "1.0"
                                },
                                {
                                    "0": "Shaunae Miller (-Uibo)",
                                    "1": "1.0"
                                },
                                {
                                    "0": "Leah Smith",
                                    "1": "1.0"
                                },
                                {
                                    "0": "Melanie Margalis",
                                    "1": "1.0"
                                },
                                {
                                    "0": "Omar McLeod",
                                    "1": "1.0"
                                },
                                {
                                    "0": "Abbey Weitzeil",
                                    "1": "1.0"
                                },
                                {
                                    "0": "Cierra Runge",
                                    "1": "1.0"
                                },
                                {
                                    "0": "Ryohei Kato",
                                    "1": "1.0"
                                },
                                {
                                    "0": "Clark Smith",
                                    "1": "1.0"
                                },
                                {
                                    "0": "Eleftherios Petrounias",
                                    "1": "1.0"
                                },
                                {
                                    "0": "Faith Chepngetich Kibiegon",
                                    "1": "1.0"
                                },
                                {
                                    "0": "Kosuke Hagino",
                                    "1": "1.0"
                                },
                                {
                                    "0": "Joseph Isaac Schooling",
                                    "1": "1.0"
                                },
                                {
                                    "0": "Christoph Harting",
                                    "1": "1.0"
                                },
                                {
                                    "0": "Courtney Okolo",
                                    "1": "1.0"
                                },
                                {
                                    "0": "Cate Natalie Campbell",
                                    "1": "1.0"
                                },
                                {
                                    "0": "Thiago Braz da Silva",
                                    "1": "1.0"
                                },
                                {
                                    "0": "Vivian Jepkemoi Cheruiyot",
                                    "1": "1.0"
                                },
                                {
                                    "0": "Asafa Kehine Powell",
                                    "1": "1.0"
                                },
                                {
                                    "0": "Joseph \"Gunnar\" Bentz",
                                    "1": "1.0"
                                },
                                {
                                    "0": "Thomas Allen \"Tom\" Shields",
                                    "1": "1.0"
                                },
                                {
                                    "0": "Kenzo Shirai",
                                    "1": "1.0"
                                },
                                {
                                    "0": "Mackenzie \"Mack\" Horton",
                                    "1": "1.0"
                                },
                                {
                                    "0": "Fabian Hambchen",
                                    "1": "1.0"
                                },
                                {
                                    "0": "Adam George Peaty",
                                    "1": "1.0"
                                },
                                {
                                    "0": "Blake Pieroni",
                                    "1": "1.0"
                                },
                                {
                                    "0": "Sandra Perkovi",
                                    "1": "1.0"
                                },
                                {
                                    "0": "Kelsi Worrell",
                                    "1": "1.0"
                                },
                                {
                                    "0": "Brianna Rollins",
                                    "1": "1.0"
                                },
                                {
                                    "0": "Pernille Blume",
                                    "1": "1.0"
                                },
                                {
                                    "0": "Brittany Joyce Elmslie",
                                    "1": "1.0"
                                },
                                {
                                    "0": "Sharon van Rouwendaal",
                                    "1": "1.0"
                                },
                                {
                                    "0": "Nafissatou \"Nafi\" Thiam",
                                    "1": "1.0"
                                },
                                {
                                    "0": "Madison Taylor Kocian",
                                    "1": "1.0"
                                }
                            ]
                        },
                        "text/html": [
                            "<table>",
                            "<tr><th>name</th><th>Number of gold medals</th></tr>",
                            "<tr><td>Michael Fred Phelps, II</td><td>5.0</td></tr>",
                            "<tr><td>Kathleen Genevieve &quot;Katie&quot; Ledecky</td><td>4.0</td></tr>",
                            "<tr><td>Simone Arianne Biles</td><td>4.0</td></tr>",
                            "<tr><td>Katinka Hossz</td><td>3.0</td></tr>",
                            "<tr><td>Usain St. Leo Bolt</td><td>3.0</td></tr>",
                            "<tr><td>Ryan Murphy</td><td>3.0</td></tr>",
                            "<tr><td>Elaine Thompson</td><td>2.0</td></tr>",
                            "<tr><td>Kohei Uchimura</td><td>2.0</td></tr>",
                            "<tr><td>Max Antony Whitlock</td><td>2.0</td></tr>",
                            "<tr><td>Nathan Ghar-Jun Adrian</td><td>2.0</td></tr>",
                            "<tr><td>Simone Ashley Manuel</td><td>2.0</td></tr>",
                            "<tr><td>Caeleb Remel Dressel</td><td>2.0</td></tr>",
                            "<tr><td>Mohamed Muktar Jama &quot;Mo&quot; Farah</td><td>2.0</td></tr>",
                            "<tr><td>Lilly King</td><td>2.0</td></tr>",
                            "<tr><td>Anthony Lee Ervin</td><td>2.0</td></tr>",
                            "<tr><td>Madeline Jane &quot;Maya&quot; DiRado</td><td>2.0</td></tr>",
                            "<tr><td>Allyson Michelle Felix</td><td>2.0</td></tr>",
                            "<tr><td>Tianna Madison-Bartoletta</td><td>2.0</td></tr>",
                            "<tr><td>Ashton James Eaton</td><td>1.0</td></tr>",
                            "<tr><td>Conor James Dwyer</td><td>1.0</td></tr>",
                            "<tr><td>Morolake Akinosun</td><td>1.0</td></tr>",
                            "<tr><td>Ryan Steven Lochte</td><td>1.0</td></tr>",
                            "<tr><td>Matthew Gerald &quot;Matt&quot; Centrowitz, Jr.</td><td>1.0</td></tr>",
                            "<tr><td>Arman Hall</td><td>1.0</td></tr>",
                            "<tr><td>Sarah Frederica Sjstrm</td><td>1.0</td></tr>",
                            "<tr><td>Dalilah Muhammad</td><td>1.0</td></tr>",
                            "<tr><td>Wang Zhen</td><td>1.0</td></tr>",
                            "<tr><td>David Lekuta Rudisha</td><td>1.0</td></tr>",
                            "<tr><td>Kyle Chalmers</td><td>1.0</td></tr>",
                            "<tr><td>Eliud Kipchoge</td><td>1.0</td></tr>",
                            "<tr><td>Tony McQuay</td><td>1.0</td></tr>",
                            "<tr><td>Mireia Belmonte Garca</td><td>1.0</td></tr>",
                            "<tr><td>Catherine Michelle &quot;Katie&quot; Meili</td><td>1.0</td></tr>",
                            "<tr><td>Taylor Ellis-Watson</td><td>1.0</td></tr>",
                            "<tr><td>Almaz Ayana Eba</td><td>1.0</td></tr>",
                            "<tr><td>Aliya Farkhatovna Mustafina</td><td>1.0</td></tr>",
                            "<tr><td>Ferry Weertman</td><td>1.0</td></tr>",
                            "<tr><td>Allison Rodgers Schmitt</td><td>1.0</td></tr>",
                            "<tr><td>Thomas Rhler</td><td>1.0</td></tr>",
                            "<tr><td>Cody Miller</td><td>1.0</td></tr>",
                            "<tr><td>English Gardner</td><td>1.0</td></tr>",
                            "<tr><td>Kerron Stephon Clement</td><td>1.0</td></tr>",
                            "<tr><td>Alexandra Rose &quot;Aly&quot; Raisman</td><td>1.0</td></tr>",
                            "<tr><td>Nickel Ashmeade</td><td>1.0</td></tr>",
                            "<tr><td>Kathleen Baker</td><td>1.0</td></tr>",
                            "<tr><td>Yohan Blake</td><td>1.0</td></tr>",
                            "<tr><td>Frentorish &quot;Tori&quot; Bowie</td><td>1.0</td></tr>",
                            "<tr><td>Anita Wodarczyk</td><td>1.0</td></tr>",
                            "<tr><td>Dmitry Igorevich Balandin</td><td>1.0</td></tr>",
                            "<tr><td>Kemar Bailey-Cole</td><td>1.0</td></tr>",
                            "<tr><td>Bronte Campbell</td><td>1.0</td></tr>",
                            "<tr><td>David Verburg</td><td>1.0</td></tr>",
                            "<tr><td>Wayde van Niekerk</td><td>1.0</td></tr>",
                            "<tr><td>Jemima Jelagat Sumgong</td><td>1.0</td></tr>",
                            "<tr><td>Penelope &quot;Penny&quot; Oleksiak</td><td>1.0</td></tr>",
                            "<tr><td>Jevaughn Minzie</td><td>1.0</td></tr>",
                            "<tr><td>Phyllis Chanez Francis</td><td>1.0</td></tr>",
                            "<tr><td>Madison &quot;Madi&quot; Wilson</td><td>1.0</td></tr>",
                            "<tr><td>Jeffrey &quot;Jeff&quot; Henderson</td><td>1.0</td></tr>",
                            "<tr><td>Yusuke Tanaka</td><td>1.0</td></tr>",
                            "<tr><td>Emma McKeon</td><td>1.0</td></tr>",
                            "<tr><td>Olivia Smoliga</td><td>1.0</td></tr>",
                            "<tr><td>Aikaterini &quot;Ekaterini&quot; Stefanidi</td><td>1.0</td></tr>",
                            "<tr><td>Ruth Beita Vila</td><td>1.0</td></tr>",
                            "<tr><td>LaShawn Merritt</td><td>1.0</td></tr>",
                            "<tr><td>James &quot;Jimmy&quot; Feigen</td><td>1.0</td></tr>",
                            "<tr><td>Sanne Wevers</td><td>1.0</td></tr>",
                            "<tr><td>Kevin Cordes</td><td>1.0</td></tr>",
                            "<tr><td>Ri Se-Gwang</td><td>1.0</td></tr>",
                            "<tr><td>Gregorio Paltrinieri</td><td>1.0</td></tr>",
                            "<tr><td>Ruth Jebet</td><td>1.0</td></tr>",
                            "<tr><td>Gil Roberts</td><td>1.0</td></tr>",
                            "<tr><td>David Edward Plummer</td><td>1.0</td></tr>",
                            "<tr><td>Rie Kaneto</td><td>1.0</td></tr>",
                            "<tr><td>Koji Yamamuro</td><td>1.0</td></tr>",
                            "<tr><td>Caterine Ibargn Mena</td><td>1.0</td></tr>",
                            "<tr><td>Conseslus Kipruto</td><td>1.0</td></tr>",
                            "<tr><td>Derek Drouin</td><td>1.0</td></tr>",
                            "<tr><td>Kyle Clemons</td><td>1.0</td></tr>",
                            "<tr><td>Matej Tth</td><td>1.0</td></tr>",
                            "<tr><td>Sara Kolak</td><td>1.0</td></tr>",
                            "<tr><td>Michelle Denee Carter</td><td>1.0</td></tr>",
                            "<tr><td>Mokgadi Caster Semenya</td><td>1.0</td></tr>",
                            "<tr><td>Oleh Yuriyovych Verniaiev</td><td>1.0</td></tr>",
                            "<tr><td>Liu Hong</td><td>1.0</td></tr>",
                            "<tr><td>Sun Yang</td><td>1.0</td></tr>",
                            "<tr><td>Francena Lynette McCorory</td><td>1.0</td></tr>",
                            "<tr><td>Ryan Held</td><td>1.0</td></tr>",
                            "<tr><td>Melissa Jeanette &quot;Missy&quot; Franklin</td><td>1.0</td></tr>",
                            "<tr><td>Dana Whitney Vollmer (-Grant)</td><td>1.0</td></tr>",
                            "<tr><td>John &quot;Jack&quot; Conger</td><td>1.0</td></tr>",
                            "<tr><td>Natasha Monique Hastings</td><td>1.0</td></tr>",
                            "<tr><td>Gabrielle Christina Victoria &quot;Gabby&quot; Douglas</td><td>1.0</td></tr>",
                            "<tr><td>Lauren Zoe &quot;Laurie&quot; Hernandez</td><td>1.0</td></tr>",
                            "<tr><td>Christian Taylor</td><td>1.0</td></tr>",
                            "<tr><td>Dilshod Nazarov</td><td>1.0</td></tr>",
                            "<tr><td>Francis Townley Haas</td><td>1.0</td></tr>",
                            "<tr><td>Ryan Crouser</td><td>1.0</td></tr>",
                            "<tr><td>Shaunae Miller (-Uibo)</td><td>1.0</td></tr>",
                            "<tr><td>Leah Smith</td><td>1.0</td></tr>",
                            "<tr><td>Melanie Margalis</td><td>1.0</td></tr>",
                            "<tr><td>Omar McLeod</td><td>1.0</td></tr>",
                            "<tr><td>Abbey Weitzeil</td><td>1.0</td></tr>",
                            "<tr><td>Cierra Runge</td><td>1.0</td></tr>",
                            "<tr><td>Ryohei Kato</td><td>1.0</td></tr>",
                            "<tr><td>Clark Smith</td><td>1.0</td></tr>",
                            "<tr><td>Eleftherios Petrounias</td><td>1.0</td></tr>",
                            "<tr><td>Faith Chepngetich Kibiegon</td><td>1.0</td></tr>",
                            "<tr><td>Kosuke Hagino</td><td>1.0</td></tr>",
                            "<tr><td>Joseph Isaac Schooling</td><td>1.0</td></tr>",
                            "<tr><td>Christoph Harting</td><td>1.0</td></tr>",
                            "<tr><td>Courtney Okolo</td><td>1.0</td></tr>",
                            "<tr><td>Cate Natalie Campbell</td><td>1.0</td></tr>",
                            "<tr><td>Thiago Braz da Silva</td><td>1.0</td></tr>",
                            "<tr><td>Vivian Jepkemoi Cheruiyot</td><td>1.0</td></tr>",
                            "<tr><td>Asafa Kehine Powell</td><td>1.0</td></tr>",
                            "<tr><td>Joseph &quot;Gunnar&quot; Bentz</td><td>1.0</td></tr>",
                            "<tr><td>Thomas Allen &quot;Tom&quot; Shields</td><td>1.0</td></tr>",
                            "<tr><td>Kenzo Shirai</td><td>1.0</td></tr>",
                            "<tr><td>Mackenzie &quot;Mack&quot; Horton</td><td>1.0</td></tr>",
                            "<tr><td>Fabian Hambchen</td><td>1.0</td></tr>",
                            "<tr><td>Adam George Peaty</td><td>1.0</td></tr>",
                            "<tr><td>Blake Pieroni</td><td>1.0</td></tr>",
                            "<tr><td>Sandra Perkovi</td><td>1.0</td></tr>",
                            "<tr><td>Kelsi Worrell</td><td>1.0</td></tr>",
                            "<tr><td>Brianna Rollins</td><td>1.0</td></tr>",
                            "<tr><td>Pernille Blume</td><td>1.0</td></tr>",
                            "<tr><td>Brittany Joyce Elmslie</td><td>1.0</td></tr>",
                            "<tr><td>Sharon van Rouwendaal</td><td>1.0</td></tr>",
                            "<tr><td>Nafissatou &quot;Nafi&quot; Thiam</td><td>1.0</td></tr>",
                            "<tr><td>Madison Taylor Kocian</td><td>1.0</td></tr>",
                            "</table>"
                        ]
                    }
                }
            ],
            "execution_count": 39
        },
        {
            "cell_type": "markdown",
            "source": [
                "<span style=\"color: rgb(5, 25, 45); font-family: Studio-Feixen-Sans, Arial; font-size: 16px; background-color: rgb(255, 255, 255);\">Your boss is looking to see which winter events include athletes over the age of 40. To answer this, you need a report that lists out all events that satisfy this condition. In order to have a correct list, you will need to leverage a filter. In this exercise, you will decide which filter option to use. (using subquries)</span>"
            ],
            "metadata": {
                "azdata_cell_guid": "4e843c27-c01d-455f-86ae-97460d590eac"
            },
            "attachments": {}
        },
        {
            "cell_type": "code",
            "source": [
                "SELECT event\r\n",
                "FROM winter_games\r\n",
                "WHERE athlete_id IN (\r\n",
                "    SELECT ID\r\n",
                "    FROM athletes\r\n",
                "    WHERE age > 40\r\n",
                ")"
            ],
            "metadata": {
                "azdata_cell_guid": "ce2eeebc-bc54-44af-a9a4-801e3ba84fcd",
                "language": "sql",
                "tags": []
            },
            "outputs": [
                {
                    "output_type": "display_data",
                    "data": {
                        "text/html": "(7 row(s) affected)"
                    },
                    "metadata": {}
                },
                {
                    "output_type": "display_data",
                    "data": {
                        "text/html": "Total execution time: 00:00:00.008"
                    },
                    "metadata": {}
                },
                {
                    "output_type": "execute_result",
                    "metadata": {},
                    "execution_count": 42,
                    "data": {
                        "application/vnd.dataresource+json": {
                            "schema": {
                                "fields": [
                                    {
                                        "name": "event"
                                    }
                                ]
                            },
                            "data": [
                                {
                                    "0": "Cross Country Skiing Men's 15 kilometres"
                                },
                                {
                                    "0": "Cross Country Skiing Men's 30 km Skiathlon"
                                },
                                {
                                    "0": "Cross Country Skiing Men's 4 x 10 kilometres Relay"
                                },
                                {
                                    "0": "Cross Country Skiing Men's 15 kilometres"
                                },
                                {
                                    "0": "Alpine Skiing Men's Giant Slalom"
                                },
                                {
                                    "0": "Cross Country Skiing Men's 15 kilometres"
                                },
                                {
                                    "0": "Alpine Skiing Men's Slalom"
                                }
                            ]
                        },
                        "text/html": [
                            "<table>",
                            "<tr><th>event</th></tr>",
                            "<tr><td>Cross Country Skiing Men's 15 kilometres</td></tr>",
                            "<tr><td>Cross Country Skiing Men's 30 km Skiathlon</td></tr>",
                            "<tr><td>Cross Country Skiing Men's 4 x 10 kilometres Relay</td></tr>",
                            "<tr><td>Cross Country Skiing Men's 15 kilometres</td></tr>",
                            "<tr><td>Alpine Skiing Men's Giant Slalom</td></tr>",
                            "<tr><td>Cross Country Skiing Men's 15 kilometres</td></tr>",
                            "<tr><td>Alpine Skiing Men's Slalom</td></tr>",
                            "</table>"
                        ]
                    }
                }
            ],
            "execution_count": 42
        },
        {
            "cell_type": "markdown",
            "source": [
                "<span style=\"color: rgb(5, 25, 45); font-family: Studio-Feixen-Sans, Arial; font-size: 16px; background-color: rgb(255, 255, 255);\">Your boss is looking to see which winter events include athletes over the age of 40. To answer this, you need a report that lists out all events that satisfy this condition. In order to have a correct list, you will need to leverage a filter. In this exercise, you will decide which filter option to use. (using join)</span>"
            ],
            "metadata": {
                "language": "sql",
                "azdata_cell_guid": "48f83164-eda0-48de-ac64-6571e347ae29"
            },
            "attachments": {}
        },
        {
            "cell_type": "code",
            "source": [
                "SELECT event, age\r\n",
                "FROM winter_games as wg \r\n",
                "left join athletes as a on a.id = wg.athlete_id\r\n",
                "WHERE a.age > 40 "
            ],
            "metadata": {
                "language": "sql",
                "azdata_cell_guid": "017cac44-d12b-4aa3-b67b-ef3a8b793356"
            },
            "outputs": [
                {
                    "output_type": "display_data",
                    "data": {
                        "text/html": "(7 row(s) affected)"
                    },
                    "metadata": {}
                },
                {
                    "output_type": "display_data",
                    "data": {
                        "text/html": "Total execution time: 00:00:00.008"
                    },
                    "metadata": {}
                },
                {
                    "output_type": "execute_result",
                    "metadata": {},
                    "execution_count": 44,
                    "data": {
                        "application/vnd.dataresource+json": {
                            "schema": {
                                "fields": [
                                    {
                                        "name": "event"
                                    },
                                    {
                                        "name": "age"
                                    }
                                ]
                            },
                            "data": [
                                {
                                    "0": "Cross Country Skiing Men's 15 kilometres",
                                    "1": "43"
                                },
                                {
                                    "0": "Cross Country Skiing Men's 30 km Skiathlon",
                                    "1": "41"
                                },
                                {
                                    "0": "Cross Country Skiing Men's 4 x 10 kilometres Relay",
                                    "1": "41"
                                },
                                {
                                    "0": "Cross Country Skiing Men's 15 kilometres",
                                    "1": "47"
                                },
                                {
                                    "0": "Alpine Skiing Men's Giant Slalom",
                                    "1": "43"
                                },
                                {
                                    "0": "Cross Country Skiing Men's 15 kilometres",
                                    "1": "44"
                                },
                                {
                                    "0": "Alpine Skiing Men's Slalom",
                                    "1": "55"
                                }
                            ]
                        },
                        "text/html": [
                            "<table>",
                            "<tr><th>event</th><th>age</th></tr>",
                            "<tr><td>Cross Country Skiing Men's 15 kilometres</td><td>43</td></tr>",
                            "<tr><td>Cross Country Skiing Men's 30 km Skiathlon</td><td>41</td></tr>",
                            "<tr><td>Cross Country Skiing Men's 4 x 10 kilometres Relay</td><td>41</td></tr>",
                            "<tr><td>Cross Country Skiing Men's 15 kilometres</td><td>47</td></tr>",
                            "<tr><td>Alpine Skiing Men's Giant Slalom</td><td>43</td></tr>",
                            "<tr><td>Cross Country Skiing Men's 15 kilometres</td><td>44</td></tr>",
                            "<tr><td>Alpine Skiing Men's Slalom</td><td>55</td></tr>",
                            "</table>"
                        ]
                    }
                }
            ],
            "execution_count": 44
        },
        {
            "cell_type": "markdown",
            "source": [
                "- season, which outputs either `summer` or `winter`\n",
                "- country\n",
                "- events, which shows the unique number of events"
            ],
            "metadata": {
                "language": "sql",
                "azdata_cell_guid": "8f4fd46c-2d0e-46d5-805a-c5ca226f0471"
            },
            "attachments": {}
        },
        {
            "cell_type": "code",
            "source": [
                "SELECT season, country, count(distinct(event)) as Event\r\n",
                "FROM countries as c \r\n",
                "JOIN \r\n",
                "    (SELECT 'summer' as season, * \r\n",
                "    FROM summer_games \r\n",
                "    UNION ALL \r\n",
                "    SELECT 'winter' as season, *\r\n",
                "    FROM winter_games) as subquery on subquery.country_id = c.id\r\n",
                "GROUP BY\r\n",
                "    season, c.country\r\n",
                "ORDER BY\r\n",
                "    EVENT DESC\r\n",
                ""
            ],
            "metadata": {
                "language": "sql",
                "azdata_cell_guid": "5da4cdab-d555-4c12-b029-c7c83c4648ad"
            },
            "outputs": [
                {
                    "output_type": "display_data",
                    "data": {
                        "text/html": "(281 row(s) affected)"
                    },
                    "metadata": {}
                },
                {
                    "output_type": "display_data",
                    "data": {
                        "text/html": "Total execution time: 00:00:00.031"
                    },
                    "metadata": {}
                },
                {
                    "output_type": "execute_result",
                    "metadata": {},
                    "execution_count": 57,
                    "data": {
                        "application/vnd.dataresource+json": {
                            "schema": {
                                "fields": [
                                    {
                                        "name": "season"
                                    },
                                    {
                                        "name": "country"
                                    },
                                    {
                                        "name": "event"
                                    }
                                ]
                            },
                            "data": [
                                {
                                    "0": "summer",
                                    "1": "U.S.A. - United States",
                                    "2": "94"
                                },
                                {
                                    "0": "summer",
                                    "1": " BRA - Brazil",
                                    "2": "79"
                                },
                                {
                                    "0": "summer",
                                    "1": "G.BR - Great Britain",
                                    "2": "78"
                                },
                                {
                                    "0": "summer",
                                    "1": "ger - Germany",
                                    "2": "77"
                                },
                                {
                                    "0": "summer",
                                    "1": "JPN - Japan",
                                    "2": "74"
                                },
                                {
                                    "0": "summer",
                                    "1": "    CAN - Canada",
                                    "2": "73"
                                },
                                {
                                    "0": "summer",
                                    "1": "CHN - China",
                                    "2": "69"
                                },
                                {
                                    "0": "summer",
                                    "1": "  AUS - Australia",
                                    "2": "68"
                                },
                                {
                                    "0": "summer",
                                    "1": "fra - france",
                                    "2": "64"
                                },
                                {
                                    "0": "summer",
                                    "1": "ITA - Italy",
                                    "2": "61"
                                },
                                {
                                    "0": "summer",
                                    "1": "ESP - Spain",
                                    "2": "61"
                                },
                                {
                                    "0": "summer",
                                    "1": "   POL - Poland",
                                    "2": "59"
                                },
                                {
                                    "0": "summer",
                                    "1": "UKR - Ukraine",
                                    "2": "49"
                                },
                                {
                                    "0": "summer",
                                    "1": "HUN - Hungary",
                                    "2": "47"
                                },
                                {
                                    "0": "summer",
                                    "1": "  NED - Netherlands",
                                    "2": "47"
                                },
                                {
                                    "0": "summer",
                                    "1": "RUS - Russia",
                                    "2": "46"
                                },
                                {
                                    "0": "summer",
                                    "1": "RSA - South Africa",
                                    "2": "45"
                                },
                                {
                                    "0": "summer",
                                    "1": "GRE - Greece",
                                    "2": "39"
                                },
                                {
                                    "0": "summer",
                                    "1": "  nzl - new zealand",
                                    "2": "39"
                                },
                                {
                                    "0": "summer",
                                    "1": "   CZE - Czech Republic",
                                    "2": "38"
                                },
                                {
                                    "0": "summer",
                                    "1": "CUB - Cuba",
                                    "2": "37"
                                },
                                {
                                    "0": "summer",
                                    "1": "SUI - Switzerland",
                                    "2": "37"
                                },
                                {
                                    "0": "summer",
                                    "1": "BLR - Belarus",
                                    "2": "35"
                                },
                                {
                                    "0": "summer",
                                    "1": "tur - Turkey",
                                    "2": "35"
                                },
                                {
                                    "0": "summer",
                                    "1": "  BEL - Belgium",
                                    "2": "35"
                                },
                                {
                                    "0": "summer",
                                    "1": "   COL - Colombia",
                                    "2": "34"
                                },
                                {
                                    "0": "winter",
                                    "1": "  NOR - Norway",
                                    "2": "32"
                                },
                                {
                                    "0": "winter",
                                    "1": "RUS - Russia",
                                    "2": "32"
                                },
                                {
                                    "0": "winter",
                                    "1": "    CAN - Canada",
                                    "2": "32"
                                },
                                {
                                    "0": "winter",
                                    "1": "ITA - Italy",
                                    "2": "32"
                                },
                                {
                                    "0": "winter",
                                    "1": "U.S.A. - United States",
                                    "2": "32"
                                },
                                {
                                    "0": "winter",
                                    "1": "   CZE - Czech Republic",
                                    "2": "31"
                                },
                                {
                                    "0": "winter",
                                    "1": "fra - france",
                                    "2": "31"
                                },
                                {
                                    "0": "summer",
                                    "1": "Jam - Jamaica",
                                    "2": "31"
                                },
                                {
                                    "0": "summer",
                                    "1": "swe - sweden",
                                    "2": "30"
                                },
                                {
                                    "0": "summer",
                                    "1": " kor - South Korea",
                                    "2": "30"
                                },
                                {
                                    "0": "summer",
                                    "1": "FIN - Finland",
                                    "2": "29"
                                },
                                {
                                    "0": "winter",
                                    "1": "AUT - Austria",
                                    "2": "29"
                                },
                                {
                                    "0": "winter",
                                    "1": "ger - Germany",
                                    "2": "29"
                                },
                                {
                                    "0": "winter",
                                    "1": "SUI - Switzerland",
                                    "2": "28"
                                },
                                {
                                    "0": "summer",
                                    "1": "ROU - Romania",
                                    "2": "28"
                                },
                                {
                                    "0": "winter",
                                    "1": "  SVK - Slovakia",
                                    "2": "28"
                                },
                                {
                                    "0": "summer",
                                    "1": "  VEN - Venezuela",
                                    "2": "28"
                                },
                                {
                                    "0": "summer",
                                    "1": "IRL - Ireland",
                                    "2": "27"
                                },
                                {
                                    "0": "winter",
                                    "1": "   POL - Poland",
                                    "2": "27"
                                },
                                {
                                    "0": "winter",
                                    "1": "BLR - Belarus",
                                    "2": "26"
                                },
                                {
                                    "0": "summer",
                                    "1": "IND - India",
                                    "2": "26"
                                },
                                {
                                    "0": "summer",
                                    "1": "  NOR - Norway",
                                    "2": "26"
                                },
                                {
                                    "0": "winter",
                                    "1": "   SLO - Slovenia",
                                    "2": "25"
                                },
                                {
                                    "0": "summer",
                                    "1": "UZB - Uzbekistan",
                                    "2": "25"
                                },
                                {
                                    "0": "summer",
                                    "1": "POR - Portugal",
                                    "2": "25"
                                },
                                {
                                    "0": "winter",
                                    "1": "swe - sweden",
                                    "2": "24"
                                },
                                {
                                    "0": "summer",
                                    "1": "LTU - Lithuania",
                                    "2": "24"
                                },
                                {
                                    "0": "summer",
                                    "1": "  ARG - Argentina",
                                    "2": "24"
                                },
                                {
                                    "0": "summer",
                                    "1": "  SVK - Slovakia",
                                    "2": "23"
                                },
                                {
                                    "0": "winter",
                                    "1": "ROU - Romania",
                                    "2": "22"
                                },
                                {
                                    "0": "winter",
                                    "1": "  KAZ - Kazakhstan",
                                    "2": "22"
                                },
                                {
                                    "0": "winter",
                                    "1": "UKR - Ukraine",
                                    "2": "22"
                                },
                                {
                                    "0": "winter",
                                    "1": "FIN - Finland",
                                    "2": "22"
                                },
                                {
                                    "0": "summer",
                                    "1": "  KAZ - Kazakhstan",
                                    "2": "21"
                                },
                                {
                                    "0": "winter",
                                    "1": "BUL - Bulgaria",
                                    "2": "21"
                                },
                                {
                                    "0": "summer",
                                    "1": "ken - kenya",
                                    "2": "21"
                                },
                                {
                                    "0": "summer",
                                    "1": "   SLO - Slovenia",
                                    "2": "21"
                                },
                                {
                                    "0": "summer",
                                    "1": "MEX - Mexico",
                                    "2": "21"
                                },
                                {
                                    "0": "summer",
                                    "1": "ISR - Israel",
                                    "2": "20"
                                },
                                {
                                    "0": "winter",
                                    "1": "EST - Estonia",
                                    "2": "20"
                                },
                                {
                                    "0": "summer",
                                    "1": "ALG - Algeria",
                                    "2": "20"
                                },
                                {
                                    "0": "summer",
                                    "1": "NGR - Nigeria",
                                    "2": "20"
                                },
                                {
                                    "0": "summer",
                                    "1": "   DEN - Denmark",
                                    "2": "20"
                                },
                                {
                                    "0": "summer",
                                    "1": "T.To - Trinidad and Tobago",
                                    "2": "19"
                                },
                                {
                                    "0": "winter",
                                    "1": "CHN - China",
                                    "2": "19"
                                },
                                {
                                    "0": "summer",
                                    "1": "SRB - Serbia",
                                    "2": "19"
                                },
                                {
                                    "0": "winter",
                                    "1": "LAT - Latvia",
                                    "2": "19"
                                },
                                {
                                    "0": "winter",
                                    "1": "ESP - Spain",
                                    "2": "19"
                                },
                                {
                                    "0": "summer",
                                    "1": "BAH - Bahamas",
                                    "2": "19"
                                },
                                {
                                    "0": "summer",
                                    "1": "  brn - bahrain",
                                    "2": "18"
                                },
                                {
                                    "0": "winter",
                                    "1": "  AUS - Australia",
                                    "2": "18"
                                },
                                {
                                    "0": "summer",
                                    "1": "  EGY - Egypt",
                                    "2": "17"
                                },
                                {
                                    "0": "summer",
                                    "1": "CHI - Chile",
                                    "2": "16"
                                },
                                {
                                    "0": "summer",
                                    "1": "AUT - Austria",
                                    "2": "16"
                                },
                                {
                                    "0": "winter",
                                    "1": "HUN - Hungary",
                                    "2": "15"
                                },
                                {
                                    "0": "winter",
                                    "1": "G.BR - Great Britain",
                                    "2": "15"
                                },
                                {
                                    "0": "summer",
                                    "1": "BUL - Bulgaria",
                                    "2": "15"
                                },
                                {
                                    "0": "summer",
                                    "1": "    cro - croatia",
                                    "2": "15"
                                },
                                {
                                    "0": "winter",
                                    "1": "    cro - croatia",
                                    "2": "15"
                                },
                                {
                                    "0": "winter",
                                    "1": "LTU - Lithuania",
                                    "2": "15"
                                },
                                {
                                    "0": "summer",
                                    "1": "ETH - Ethiopia",
                                    "2": "15"
                                },
                                {
                                    "0": "summer",
                                    "1": "CYP - Cyprus",
                                    "2": "14"
                                },
                                {
                                    "0": "summer",
                                    "1": "   PER - Peru",
                                    "2": "14"
                                },
                                {
                                    "0": "summer",
                                    "1": " ISL - Iceland",
                                    "2": "13"
                                },
                                {
                                    "0": "winter",
                                    "1": " kor - South Korea",
                                    "2": "13"
                                },
                                {
                                    "0": "winter",
                                    "1": "JPN - Japan",
                                    "2": "13"
                                },
                                {
                                    "0": "summer",
                                    "1": "MAR - Morocco",
                                    "2": "13"
                                },
                                {
                                    "0": "winter",
                                    "1": "bih - Bosnia and Herzegovina",
                                    "2": "12"
                                },
                                {
                                    "0": "summer",
                                    "1": "EST - Estonia",
                                    "2": "12"
                                },
                                {
                                    "0": "summer",
                                    "1": "UGA - Uganda",
                                    "2": "12"
                                },
                                {
                                    "0": "summer",
                                    "1": "AZE - Azerbaijan",
                                    "2": "12"
                                },
                                {
                                    "0": "winter",
                                    "1": "SRB - Serbia",
                                    "2": "11"
                                },
                                {
                                    "0": "summer",
                                    "1": "GUA - Guatemala",
                                    "2": "11"
                                },
                                {
                                    "0": "summer",
                                    "1": " ARM - Armenia",
                                    "2": "11"
                                },
                                {
                                    "0": "summer",
                                    "1": "TUN - Tunisia",
                                    "2": "11"
                                },
                                {
                                    "0": "summer",
                                    "1": "ECU - Ecuador",
                                    "2": "10"
                                },
                                {
                                    "0": "summer",
                                    "1": "PUR - Puerto Rico",
                                    "2": "10"
                                },
                                {
                                    "0": "summer",
                                    "1": "qat. - qatar",
                                    "2": "10"
                                },
                                {
                                    "0": "summer",
                                    "1": "R.O.T. - Refugee Olympic Athletes",
                                    "2": "10"
                                },
                                {
                                    "0": "winter",
                                    "1": "  ARG - Argentina",
                                    "2": "10"
                                },
                                {
                                    "0": "winter",
                                    "1": "CHI - Chile",
                                    "2": "10"
                                },
                                {
                                    "0": "summer",
                                    "1": " VIE - Vietnam",
                                    "2": "10"
                                },
                                {
                                    "0": "summer",
                                    "1": "LAT - Latvia",
                                    "2": "10"
                                },
                                {
                                    "0": "summer",
                                    "1": "HKG - Hong Kong",
                                    "2": "10"
                                },
                                {
                                    "0": "summer",
                                    "1": "MDA - Moldova",
                                    "2": "10"
                                },
                                {
                                    "0": "winter",
                                    "1": "tur - Turkey",
                                    "2": "9"
                                },
                                {
                                    "0": "summer",
                                    "1": "PAN - Panama",
                                    "2": "9"
                                },
                                {
                                    "0": "summer",
                                    "1": "LUX - Luxembourg",
                                    "2": "9"
                                },
                                {
                                    "0": "winter",
                                    "1": "AND - Andorra",
                                    "2": "9"
                                },
                                {
                                    "0": "summer",
                                    "1": "GHA - Ghana",
                                    "2": "9"
                                },
                                {
                                    "0": "summer",
                                    "1": "BDI - Burundi",
                                    "2": "8"
                                },
                                {
                                    "0": "summer",
                                    "1": "DOM - Dominican Republic",
                                    "2": "8"
                                },
                                {
                                    "0": "summer",
                                    "1": "TPE - Chinese Taipei",
                                    "2": "8"
                                },
                                {
                                    "0": "summer",
                                    "1": "BAR - Barbados",
                                    "2": "8"
                                },
                                {
                                    "0": "winter",
                                    "1": " BRA - Brazil",
                                    "2": "8"
                                },
                                {
                                    "0": "summer",
                                    "1": "IRI - Iran",
                                    "2": "8"
                                },
                                {
                                    "0": "winter",
                                    "1": " ISL - Iceland",
                                    "2": "7"
                                },
                                {
                                    "0": "winter",
                                    "1": "MON - Monaco",
                                    "2": "7"
                                },
                                {
                                    "0": "summer",
                                    "1": "GEO - Georgia",
                                    "2": "7"
                                },
                                {
                                    "0": "summer",
                                    "1": "MAS - Malaysia",
                                    "2": "7"
                                },
                                {
                                    "0": "summer",
                                    "1": "MON - Monaco",
                                    "2": "7"
                                },
                                {
                                    "0": "summer",
                                    "1": "zim - Zimbabwe",
                                    "2": "7"
                                },
                                {
                                    "0": "winter",
                                    "1": "GRE - Greece",
                                    "2": "7"
                                },
                                {
                                    "0": "summer",
                                    "1": "GUY - Guyana",
                                    "2": "7"
                                },
                                {
                                    "0": "summer",
                                    "1": "SGP - Singapore",
                                    "2": "7"
                                },
                                {
                                    "0": "winter",
                                    "1": "   DEN - Denmark",
                                    "2": "7"
                                },
                                {
                                    "0": "summer",
                                    "1": "BOT - Botswana",
                                    "2": "6"
                                },
                                {
                                    "0": "summer",
                                    "1": "CIV - Cote d'Ivoire",
                                    "2": "6"
                                },
                                {
                                    "0": "winter",
                                    "1": "MKD - Macedonia",
                                    "2": "6"
                                },
                                {
                                    "0": "summer",
                                    "1": "URU - Uruguay",
                                    "2": "6"
                                },
                                {
                                    "0": "summer",
                                    "1": "DJI - Djibouti",
                                    "2": "6"
                                },
                                {
                                    "0": "summer",
                                    "1": "esa - El Salvador",
                                    "2": "6"
                                },
                                {
                                    "0": "summer",
                                    "1": "BOL - Bolivia",
                                    "2": "6"
                                },
                                {
                                    "0": "winter",
                                    "1": "IRI - Iran",
                                    "2": "5"
                                },
                                {
                                    "0": "summer",
                                    "1": "   ZAM - Zambia",
                                    "2": "5"
                                },
                                {
                                    "0": "summer",
                                    "1": "  I.S.V. - United States Virgin Islands",
                                    "2": "5"
                                },
                                {
                                    "0": "summer",
                                    "1": " HAI - Haiti",
                                    "2": "5"
                                },
                                {
                                    "0": "summer",
                                    "1": "bih - Bosnia and Herzegovina",
                                    "2": "5"
                                },
                                {
                                    "0": "summer",
                                    "1": "CRC - Costa Rica",
                                    "2": "5"
                                },
                                {
                                    "0": "summer",
                                    "1": "ERI - Eritrea",
                                    "2": "5"
                                },
                                {
                                    "0": "summer",
                                    "1": "KGZ - Kyrgyzstan",
                                    "2": "5"
                                },
                                {
                                    "0": "summer",
                                    "1": "KSA - Saudi Arabia",
                                    "2": "5"
                                },
                                {
                                    "0": "summer",
                                    "1": "LES - Lesotho",
                                    "2": "5"
                                },
                                {
                                    "0": "summer",
                                    "1": "MRI - Mauritius",
                                    "2": "5"
                                },
                                {
                                    "0": "summer",
                                    "1": "PHI - Philippines",
                                    "2": "5"
                                },
                                {
                                    "0": "summer",
                                    "1": "PRK - North Korea",
                                    "2": "5"
                                },
                                {
                                    "0": "summer",
                                    "1": "RWA - Rwanda",
                                    "2": "5"
                                },
                                {
                                    "0": "summer",
                                    "1": "SRI - Sri Lanka",
                                    "2": "5"
                                },
                                {
                                    "0": "summer",
                                    "1": "SUD - Sudan",
                                    "2": "5"
                                },
                                {
                                    "0": "summer",
                                    "1": "tha - Thailand",
                                    "2": "5"
                                },
                                {
                                    "0": "winter",
                                    "1": "   PER - Peru",
                                    "2": "5"
                                },
                                {
                                    "0": "winter",
                                    "1": " ARM - Armenia",
                                    "2": "5"
                                },
                                {
                                    "0": "summer",
                                    "1": "     ANT - Antigua and Barbuda",
                                    "2": "5"
                                },
                                {
                                    "0": "winter",
                                    "1": "IRL - Ireland",
                                    "2": "5"
                                },
                                {
                                    "0": "winter",
                                    "1": "LIE - Liechtenstein",
                                    "2": "5"
                                },
                                {
                                    "0": "summer",
                                    "1": "MYA - Myanmar",
                                    "2": "4"
                                },
                                {
                                    "0": "summer",
                                    "1": "S.K.N. - Saint Kitts and Nevis",
                                    "2": "4"
                                },
                                {
                                    "0": "summer",
                                    "1": "SAM - Samoa",
                                    "2": "4"
                                },
                                {
                                    "0": "summer",
                                    "1": "SEN - Senegal",
                                    "2": "4"
                                },
                                {
                                    "0": "summer",
                                    "1": "SEY - Seychelles",
                                    "2": "4"
                                },
                                {
                                    "0": "summer",
                                    "1": "MNE - Montenegro",
                                    "2": "4"
                                },
                                {
                                    "0": "summer",
                                    "1": "SLE - Sierra Leone",
                                    "2": "4"
                                },
                                {
                                    "0": "summer",
                                    "1": "MLT - Malta",
                                    "2": "4"
                                },
                                {
                                    "0": "summer",
                                    "1": "MLI - Mali",
                                    "2": "4"
                                },
                                {
                                    "0": "summer",
                                    "1": "MKD - Macedonia",
                                    "2": "4"
                                },
                                {
                                    "0": "summer",
                                    "1": "SYR - Syria",
                                    "2": "4"
                                },
                                {
                                    "0": "summer",
                                    "1": "MHL - Marshall Islands",
                                    "2": "4"
                                },
                                {
                                    "0": "summer",
                                    "1": "TAN - Tanzania",
                                    "2": "4"
                                },
                                {
                                    "0": "summer",
                                    "1": "TGA - Tonga",
                                    "2": "4"
                                },
                                {
                                    "0": "summer",
                                    "1": "TJK - Tajikistan",
                                    "2": "4"
                                },
                                {
                                    "0": "summer",
                                    "1": "TKM - Turkmenistan",
                                    "2": "4"
                                },
                                {
                                    "0": "summer",
                                    "1": "TOG - Togo",
                                    "2": "4"
                                },
                                {
                                    "0": "summer",
                                    "1": "MGL - Mongolia",
                                    "2": "4"
                                },
                                {
                                    "0": "summer",
                                    "1": "MDV - Maldives",
                                    "2": "4"
                                },
                                {
                                    "0": "summer",
                                    "1": "MAW - Malawi",
                                    "2": "4"
                                },
                                {
                                    "0": "summer",
                                    "1": "MAD - Madagascar",
                                    "2": "4"
                                },
                                {
                                    "0": "summer",
                                    "1": "UAE - United Arab Emirates",
                                    "2": "4"
                                },
                                {
                                    "0": "summer",
                                    "1": "LIB - Lebanon",
                                    "2": "4"
                                },
                                {
                                    "0": "summer",
                                    "1": "VIN - Saint Vincent and the Grenadines",
                                    "2": "4"
                                },
                                {
                                    "0": "summer",
                                    "1": "KOS - Kosovo",
                                    "2": "4"
                                },
                                {
                                    "0": "summer",
                                    "1": "INA - Indonesia",
                                    "2": "4"
                                },
                                {
                                    "0": "summer",
                                    "1": "I.V.B. - British Virgin Islands",
                                    "2": "4"
                                },
                                {
                                    "0": "summer",
                                    "1": "GUM - Guam",
                                    "2": "4"
                                },
                                {
                                    "0": "summer",
                                    "1": "GUI - Guinea",
                                    "2": "4"
                                },
                                {
                                    "0": "summer",
                                    "1": "grn - grenada",
                                    "2": "4"
                                },
                                {
                                    "0": "summer",
                                    "1": "   COK - Cook Islands",
                                    "2": "4"
                                },
                                {
                                    "0": "summer",
                                    "1": "FIJ - Fiji",
                                    "2": "4"
                                },
                                {
                                    "0": "summer",
                                    "1": "F.SM. - Federated States of Micronesia",
                                    "2": "4"
                                },
                                {
                                    "0": "summer",
                                    "1": "COM - Comoros",
                                    "2": "4"
                                },
                                {
                                    "0": "summer",
                                    "1": "CGO - Congo (Brazzaville)",
                                    "2": "4"
                                },
                                {
                                    "0": "summer",
                                    "1": "CAY - Cayman Islands",
                                    "2": "4"
                                },
                                {
                                    "0": "summer",
                                    "1": "C.Af - Central African Republic",
                                    "2": "4"
                                },
                                {
                                    "0": "summer",
                                    "1": "BUR - Burkina Faso",
                                    "2": "4"
                                },
                                {
                                    "0": "winter",
                                    "1": "GEO - Georgia",
                                    "2": "4"
                                },
                                {
                                    "0": "summer",
                                    "1": "BER - Bermuda",
                                    "2": "4"
                                },
                                {
                                    "0": "summer",
                                    "1": "BEN - Benin",
                                    "2": "4"
                                },
                                {
                                    "0": "summer",
                                    "1": "BAN - Bangladesh",
                                    "2": "4"
                                },
                                {
                                    "0": "summer",
                                    "1": "     CAM - Cambodia",
                                    "2": "4"
                                },
                                {
                                    "0": "winter",
                                    "1": "UZB - Uzbekistan",
                                    "2": "4"
                                },
                                {
                                    "0": "summer",
                                    "1": "ANG - Angola",
                                    "2": "4"
                                },
                                {
                                    "0": "summer",
                                    "1": "ALB - Albania",
                                    "2": "4"
                                },
                                {
                                    "0": "winter",
                                    "1": "MAR - Morocco",
                                    "2": "4"
                                },
                                {
                                    "0": "winter",
                                    "1": "MDA - Moldova",
                                    "2": "4"
                                },
                                {
                                    "0": "winter",
                                    "1": "POR - Portugal",
                                    "2": "4"
                                },
                                {
                                    "0": "summer",
                                    "1": "  SUR - Suriname",
                                    "2": "4"
                                },
                                {
                                    "0": "summer",
                                    "1": "PAK - Pakistan",
                                    "2": "4"
                                },
                                {
                                    "0": "summer",
                                    "1": "PAR - Paraguay",
                                    "2": "4"
                                },
                                {
                                    "0": "summer",
                                    "1": "PLE - Palestine",
                                    "2": "4"
                                },
                                {
                                    "0": "summer",
                                    "1": "NIG - Niger",
                                    "2": "4"
                                },
                                {
                                    "0": "summer",
                                    "1": "NEP - Nepal",
                                    "2": "4"
                                },
                                {
                                    "0": "summer",
                                    "1": "moz- Mozambique",
                                    "2": "3"
                                },
                                {
                                    "0": "winter",
                                    "1": "tha - Thailand",
                                    "2": "3"
                                },
                                {
                                    "0": "summer",
                                    "1": "GAM - Gambia",
                                    "2": "3"
                                },
                                {
                                    "0": "summer",
                                    "1": "LBR - Liberia",
                                    "2": "3"
                                },
                                {
                                    "0": "summer",
                                    "1": "SSD - South Sudan",
                                    "2": "3"
                                },
                                {
                                    "0": "summer",
                                    "1": "LCA - Saint Lucia",
                                    "2": "3"
                                },
                                {
                                    "0": "summer",
                                    "1": "NCA - Nicaragua",
                                    "2": "3"
                                },
                                {
                                    "0": "summer",
                                    "1": "GAB - Gabon",
                                    "2": "3"
                                },
                                {
                                    "0": "summer",
                                    "1": "lao - Laos",
                                    "2": "3"
                                },
                                {
                                    "0": "winter",
                                    "1": "MNE - Montenegro",
                                    "2": "3"
                                },
                                {
                                    "0": "winter",
                                    "1": "LIB - Lebanon",
                                    "2": "3"
                                },
                                {
                                    "0": "summer",
                                    "1": "  PNG - Papua New Guinea",
                                    "2": "3"
                                },
                                {
                                    "0": "summer",
                                    "1": "JOR - Jordan",
                                    "2": "3"
                                },
                                {
                                    "0": "winter",
                                    "1": "TOG - Togo",
                                    "2": "3"
                                },
                                {
                                    "0": "summer",
                                    "1": "PLW - Palau",
                                    "2": "3"
                                },
                                {
                                    "0": "summer",
                                    "1": "HON - Honduras",
                                    "2": "3"
                                },
                                {
                                    "0": "summer",
                                    "1": "LBA - Libya",
                                    "2": "3"
                                },
                                {
                                    "0": "summer",
                                    "1": "A.Sa - American Samoa",
                                    "2": "2"
                                },
                                {
                                    "0": "summer",
                                    "1": "BRU - Brunei",
                                    "2": "2"
                                },
                                {
                                    "0": "summer",
                                    "1": "NAM - Namibia",
                                    "2": "2"
                                },
                                {
                                    "0": "summer",
                                    "1": "TLS - Timor Leste",
                                    "2": "2"
                                },
                                {
                                    "0": "summer",
                                    "1": "COD - Congo (Kinshasa)",
                                    "2": "2"
                                },
                                {
                                    "0": "summer",
                                    "1": "  G.Bs - Guinea Bissau",
                                    "2": "2"
                                },
                                {
                                    "0": "winter",
                                    "1": "ALB - Albania",
                                    "2": "2"
                                },
                                {
                                    "0": "winter",
                                    "1": "MGL - Mongolia",
                                    "2": "2"
                                },
                                {
                                    "0": "summer",
                                    "1": "DMA - Dominica",
                                    "2": "2"
                                },
                                {
                                    "0": "winter",
                                    "1": "AZE - Azerbaijan",
                                    "2": "2"
                                },
                                {
                                    "0": "summer",
                                    "1": "MTN - Mauritania",
                                    "2": "2"
                                },
                                {
                                    "0": "summer",
                                    "1": "CPV - Cape Verde",
                                    "2": "2"
                                },
                                {
                                    "0": "summer",
                                    "1": "AFG - Afghanistan",
                                    "2": "2"
                                },
                                {
                                    "0": "winter",
                                    "1": "CAY - Cayman Islands",
                                    "2": "2"
                                },
                                {
                                    "0": "summer",
                                    "1": "CMR - Cameroon",
                                    "2": "2"
                                },
                                {
                                    "0": "summer",
                                    "1": "CHA - Chad",
                                    "2": "2"
                                },
                                {
                                    "0": "summer",
                                    "1": "SOL - Solomon Islands",
                                    "2": "2"
                                },
                                {
                                    "0": "summer",
                                    "1": "SOM - Somalia",
                                    "2": "2"
                                },
                                {
                                    "0": "winter",
                                    "1": "CYP - Cyprus",
                                    "2": "2"
                                },
                                {
                                    "0": "winter",
                                    "1": "MLT - Malta",
                                    "2": "2"
                                },
                                {
                                    "0": "summer",
                                    "1": "SWZ - Swaziland",
                                    "2": "2"
                                },
                                {
                                    "0": "summer",
                                    "1": "ARU - Aruba",
                                    "2": "2"
                                },
                                {
                                    "0": "summer",
                                    "1": "LIE - Liechtenstein",
                                    "2": "2"
                                },
                                {
                                    "0": "winter",
                                    "1": "KGZ - Kyrgyzstan",
                                    "2": "2"
                                },
                                {
                                    "0": "summer",
                                    "1": "YEM - Yemen",
                                    "2": "2"
                                },
                                {
                                    "0": "summer",
                                    "1": "AND - Andorra",
                                    "2": "2"
                                },
                                {
                                    "0": "summer",
                                    "1": "KIR - Kiribati",
                                    "2": "2"
                                },
                                {
                                    "0": "summer",
                                    "1": "   S.T.P. - Sao Tome and Principe",
                                    "2": "2"
                                },
                                {
                                    "0": "winter",
                                    "1": "zim - Zimbabwe",
                                    "2": "2"
                                },
                                {
                                    "0": "summer",
                                    "1": "OMA - Oman",
                                    "2": "2"
                                },
                                {
                                    "0": "winter",
                                    "1": "  I.S.V. - United States Virgin Islands",
                                    "2": "2"
                                },
                                {
                                    "0": "summer",
                                    "1": "  BIZ - Belize",
                                    "2": "2"
                                },
                                {
                                    "0": "winter",
                                    "1": "  nzl - new zealand",
                                    "2": "2"
                                },
                                {
                                    "0": "winter",
                                    "1": "IND - India",
                                    "2": "2"
                                },
                                {
                                    "0": "winter",
                                    "1": "SMR - San Marino",
                                    "2": "2"
                                },
                                {
                                    "0": "summer",
                                    "1": "  I.O.A. - Individual Olympic Athletes",
                                    "2": "2"
                                },
                                {
                                    "0": "winter",
                                    "1": "PAK - Pakistan",
                                    "2": "1"
                                },
                                {
                                    "0": "winter",
                                    "1": "NEP - Nepal",
                                    "2": "1"
                                },
                                {
                                    "0": "winter",
                                    "1": "  VEN - Venezuela",
                                    "2": "1"
                                },
                                {
                                    "0": "summer",
                                    "1": "SMR - San Marino",
                                    "2": "1"
                                },
                                {
                                    "0": "summer",
                                    "1": "TUV - Tuvalu",
                                    "2": "1"
                                },
                                {
                                    "0": "summer",
                                    "1": "GEQ - Equatorial Guinea",
                                    "2": "1"
                                },
                                {
                                    "0": "winter",
                                    "1": "MEX - Mexico",
                                    "2": "1"
                                },
                                {
                                    "0": "winter",
                                    "1": "LUX - Luxembourg",
                                    "2": "1"
                                },
                                {
                                    "0": "winter",
                                    "1": "DMA - Dominica",
                                    "2": "1"
                                },
                                {
                                    "0": "winter",
                                    "1": "TLS - Timor Leste",
                                    "2": "1"
                                },
                                {
                                    "0": "winter",
                                    "1": "TJK - Tajikistan",
                                    "2": "1"
                                },
                                {
                                    "0": "winter",
                                    "1": "BER - Bermuda",
                                    "2": "1"
                                }
                            ]
                        },
                        "text/html": [
                            "<table>",
                            "<tr><th>season</th><th>country</th><th>event</th></tr>",
                            "<tr><td>summer</td><td>U.S.A. - United States</td><td>94</td></tr>",
                            "<tr><td>summer</td><td> BRA - Brazil</td><td>79</td></tr>",
                            "<tr><td>summer</td><td>G.BR - Great Britain</td><td>78</td></tr>",
                            "<tr><td>summer</td><td>ger - Germany</td><td>77</td></tr>",
                            "<tr><td>summer</td><td>JPN - Japan</td><td>74</td></tr>",
                            "<tr><td>summer</td><td>    CAN - Canada</td><td>73</td></tr>",
                            "<tr><td>summer</td><td>CHN - China</td><td>69</td></tr>",
                            "<tr><td>summer</td><td>  AUS - Australia</td><td>68</td></tr>",
                            "<tr><td>summer</td><td>fra - france</td><td>64</td></tr>",
                            "<tr><td>summer</td><td>ITA - Italy</td><td>61</td></tr>",
                            "<tr><td>summer</td><td>ESP - Spain</td><td>61</td></tr>",
                            "<tr><td>summer</td><td>   POL - Poland</td><td>59</td></tr>",
                            "<tr><td>summer</td><td>UKR - Ukraine</td><td>49</td></tr>",
                            "<tr><td>summer</td><td>HUN - Hungary</td><td>47</td></tr>",
                            "<tr><td>summer</td><td>  NED - Netherlands</td><td>47</td></tr>",
                            "<tr><td>summer</td><td>RUS - Russia</td><td>46</td></tr>",
                            "<tr><td>summer</td><td>RSA - South Africa</td><td>45</td></tr>",
                            "<tr><td>summer</td><td>GRE - Greece</td><td>39</td></tr>",
                            "<tr><td>summer</td><td>  nzl - new zealand</td><td>39</td></tr>",
                            "<tr><td>summer</td><td>   CZE - Czech Republic</td><td>38</td></tr>",
                            "<tr><td>summer</td><td>CUB - Cuba</td><td>37</td></tr>",
                            "<tr><td>summer</td><td>SUI - Switzerland</td><td>37</td></tr>",
                            "<tr><td>summer</td><td>BLR - Belarus</td><td>35</td></tr>",
                            "<tr><td>summer</td><td>tur - Turkey</td><td>35</td></tr>",
                            "<tr><td>summer</td><td>  BEL - Belgium</td><td>35</td></tr>",
                            "<tr><td>summer</td><td>   COL - Colombia</td><td>34</td></tr>",
                            "<tr><td>winter</td><td>  NOR - Norway</td><td>32</td></tr>",
                            "<tr><td>winter</td><td>RUS - Russia</td><td>32</td></tr>",
                            "<tr><td>winter</td><td>    CAN - Canada</td><td>32</td></tr>",
                            "<tr><td>winter</td><td>ITA - Italy</td><td>32</td></tr>",
                            "<tr><td>winter</td><td>U.S.A. - United States</td><td>32</td></tr>",
                            "<tr><td>winter</td><td>   CZE - Czech Republic</td><td>31</td></tr>",
                            "<tr><td>winter</td><td>fra - france</td><td>31</td></tr>",
                            "<tr><td>summer</td><td>Jam - Jamaica</td><td>31</td></tr>",
                            "<tr><td>summer</td><td>swe - sweden</td><td>30</td></tr>",
                            "<tr><td>summer</td><td> kor - South Korea</td><td>30</td></tr>",
                            "<tr><td>summer</td><td>FIN - Finland</td><td>29</td></tr>",
                            "<tr><td>winter</td><td>AUT - Austria</td><td>29</td></tr>",
                            "<tr><td>winter</td><td>ger - Germany</td><td>29</td></tr>",
                            "<tr><td>winter</td><td>SUI - Switzerland</td><td>28</td></tr>",
                            "<tr><td>summer</td><td>ROU - Romania</td><td>28</td></tr>",
                            "<tr><td>winter</td><td>  SVK - Slovakia</td><td>28</td></tr>",
                            "<tr><td>summer</td><td>  VEN - Venezuela</td><td>28</td></tr>",
                            "<tr><td>summer</td><td>IRL - Ireland</td><td>27</td></tr>",
                            "<tr><td>winter</td><td>   POL - Poland</td><td>27</td></tr>",
                            "<tr><td>winter</td><td>BLR - Belarus</td><td>26</td></tr>",
                            "<tr><td>summer</td><td>IND - India</td><td>26</td></tr>",
                            "<tr><td>summer</td><td>  NOR - Norway</td><td>26</td></tr>",
                            "<tr><td>winter</td><td>   SLO - Slovenia</td><td>25</td></tr>",
                            "<tr><td>summer</td><td>UZB - Uzbekistan</td><td>25</td></tr>",
                            "<tr><td>summer</td><td>POR - Portugal</td><td>25</td></tr>",
                            "<tr><td>winter</td><td>swe - sweden</td><td>24</td></tr>",
                            "<tr><td>summer</td><td>LTU - Lithuania</td><td>24</td></tr>",
                            "<tr><td>summer</td><td>  ARG - Argentina</td><td>24</td></tr>",
                            "<tr><td>summer</td><td>  SVK - Slovakia</td><td>23</td></tr>",
                            "<tr><td>winter</td><td>ROU - Romania</td><td>22</td></tr>",
                            "<tr><td>winter</td><td>  KAZ - Kazakhstan</td><td>22</td></tr>",
                            "<tr><td>winter</td><td>UKR - Ukraine</td><td>22</td></tr>",
                            "<tr><td>winter</td><td>FIN - Finland</td><td>22</td></tr>",
                            "<tr><td>summer</td><td>  KAZ - Kazakhstan</td><td>21</td></tr>",
                            "<tr><td>winter</td><td>BUL - Bulgaria</td><td>21</td></tr>",
                            "<tr><td>summer</td><td>ken - kenya</td><td>21</td></tr>",
                            "<tr><td>summer</td><td>   SLO - Slovenia</td><td>21</td></tr>",
                            "<tr><td>summer</td><td>MEX - Mexico</td><td>21</td></tr>",
                            "<tr><td>summer</td><td>ISR - Israel</td><td>20</td></tr>",
                            "<tr><td>winter</td><td>EST - Estonia</td><td>20</td></tr>",
                            "<tr><td>summer</td><td>ALG - Algeria</td><td>20</td></tr>",
                            "<tr><td>summer</td><td>NGR - Nigeria</td><td>20</td></tr>",
                            "<tr><td>summer</td><td>   DEN - Denmark</td><td>20</td></tr>",
                            "<tr><td>summer</td><td>T.To - Trinidad and Tobago</td><td>19</td></tr>",
                            "<tr><td>winter</td><td>CHN - China</td><td>19</td></tr>",
                            "<tr><td>summer</td><td>SRB - Serbia</td><td>19</td></tr>",
                            "<tr><td>winter</td><td>LAT - Latvia</td><td>19</td></tr>",
                            "<tr><td>winter</td><td>ESP - Spain</td><td>19</td></tr>",
                            "<tr><td>summer</td><td>BAH - Bahamas</td><td>19</td></tr>",
                            "<tr><td>summer</td><td>  brn - bahrain</td><td>18</td></tr>",
                            "<tr><td>winter</td><td>  AUS - Australia</td><td>18</td></tr>",
                            "<tr><td>summer</td><td>  EGY - Egypt</td><td>17</td></tr>",
                            "<tr><td>summer</td><td>CHI - Chile</td><td>16</td></tr>",
                            "<tr><td>summer</td><td>AUT - Austria</td><td>16</td></tr>",
                            "<tr><td>winter</td><td>HUN - Hungary</td><td>15</td></tr>",
                            "<tr><td>winter</td><td>G.BR - Great Britain</td><td>15</td></tr>",
                            "<tr><td>summer</td><td>BUL - Bulgaria</td><td>15</td></tr>",
                            "<tr><td>summer</td><td>    cro - croatia</td><td>15</td></tr>",
                            "<tr><td>winter</td><td>    cro - croatia</td><td>15</td></tr>",
                            "<tr><td>winter</td><td>LTU - Lithuania</td><td>15</td></tr>",
                            "<tr><td>summer</td><td>ETH - Ethiopia</td><td>15</td></tr>",
                            "<tr><td>summer</td><td>CYP - Cyprus</td><td>14</td></tr>",
                            "<tr><td>summer</td><td>   PER - Peru</td><td>14</td></tr>",
                            "<tr><td>summer</td><td> ISL - Iceland</td><td>13</td></tr>",
                            "<tr><td>winter</td><td> kor - South Korea</td><td>13</td></tr>",
                            "<tr><td>winter</td><td>JPN - Japan</td><td>13</td></tr>",
                            "<tr><td>summer</td><td>MAR - Morocco</td><td>13</td></tr>",
                            "<tr><td>winter</td><td>bih - Bosnia and Herzegovina</td><td>12</td></tr>",
                            "<tr><td>summer</td><td>EST - Estonia</td><td>12</td></tr>",
                            "<tr><td>summer</td><td>UGA - Uganda</td><td>12</td></tr>",
                            "<tr><td>summer</td><td>AZE - Azerbaijan</td><td>12</td></tr>",
                            "<tr><td>winter</td><td>SRB - Serbia</td><td>11</td></tr>",
                            "<tr><td>summer</td><td>GUA - Guatemala</td><td>11</td></tr>",
                            "<tr><td>summer</td><td> ARM - Armenia</td><td>11</td></tr>",
                            "<tr><td>summer</td><td>TUN - Tunisia</td><td>11</td></tr>",
                            "<tr><td>summer</td><td>ECU - Ecuador</td><td>10</td></tr>",
                            "<tr><td>summer</td><td>PUR - Puerto Rico</td><td>10</td></tr>",
                            "<tr><td>summer</td><td>qat. - qatar</td><td>10</td></tr>",
                            "<tr><td>summer</td><td>R.O.T. - Refugee Olympic Athletes</td><td>10</td></tr>",
                            "<tr><td>winter</td><td>  ARG - Argentina</td><td>10</td></tr>",
                            "<tr><td>winter</td><td>CHI - Chile</td><td>10</td></tr>",
                            "<tr><td>summer</td><td> VIE - Vietnam</td><td>10</td></tr>",
                            "<tr><td>summer</td><td>LAT - Latvia</td><td>10</td></tr>",
                            "<tr><td>summer</td><td>HKG - Hong Kong</td><td>10</td></tr>",
                            "<tr><td>summer</td><td>MDA - Moldova</td><td>10</td></tr>",
                            "<tr><td>winter</td><td>tur - Turkey</td><td>9</td></tr>",
                            "<tr><td>summer</td><td>PAN - Panama</td><td>9</td></tr>",
                            "<tr><td>summer</td><td>LUX - Luxembourg</td><td>9</td></tr>",
                            "<tr><td>winter</td><td>AND - Andorra</td><td>9</td></tr>",
                            "<tr><td>summer</td><td>GHA - Ghana</td><td>9</td></tr>",
                            "<tr><td>summer</td><td>BDI - Burundi</td><td>8</td></tr>",
                            "<tr><td>summer</td><td>DOM - Dominican Republic</td><td>8</td></tr>",
                            "<tr><td>summer</td><td>TPE - Chinese Taipei</td><td>8</td></tr>",
                            "<tr><td>summer</td><td>BAR - Barbados</td><td>8</td></tr>",
                            "<tr><td>winter</td><td> BRA - Brazil</td><td>8</td></tr>",
                            "<tr><td>summer</td><td>IRI - Iran</td><td>8</td></tr>",
                            "<tr><td>winter</td><td> ISL - Iceland</td><td>7</td></tr>",
                            "<tr><td>winter</td><td>MON - Monaco</td><td>7</td></tr>",
                            "<tr><td>summer</td><td>GEO - Georgia</td><td>7</td></tr>",
                            "<tr><td>summer</td><td>MAS - Malaysia</td><td>7</td></tr>",
                            "<tr><td>summer</td><td>MON - Monaco</td><td>7</td></tr>",
                            "<tr><td>summer</td><td>zim - Zimbabwe</td><td>7</td></tr>",
                            "<tr><td>winter</td><td>GRE - Greece</td><td>7</td></tr>",
                            "<tr><td>summer</td><td>GUY - Guyana</td><td>7</td></tr>",
                            "<tr><td>summer</td><td>SGP - Singapore</td><td>7</td></tr>",
                            "<tr><td>winter</td><td>   DEN - Denmark</td><td>7</td></tr>",
                            "<tr><td>summer</td><td>BOT - Botswana</td><td>6</td></tr>",
                            "<tr><td>summer</td><td>CIV - Cote d'Ivoire</td><td>6</td></tr>",
                            "<tr><td>winter</td><td>MKD - Macedonia</td><td>6</td></tr>",
                            "<tr><td>summer</td><td>URU - Uruguay</td><td>6</td></tr>",
                            "<tr><td>summer</td><td>DJI - Djibouti</td><td>6</td></tr>",
                            "<tr><td>summer</td><td>esa - El Salvador</td><td>6</td></tr>",
                            "<tr><td>summer</td><td>BOL - Bolivia</td><td>6</td></tr>",
                            "<tr><td>winter</td><td>IRI - Iran</td><td>5</td></tr>",
                            "<tr><td>summer</td><td>   ZAM - Zambia</td><td>5</td></tr>",
                            "<tr><td>summer</td><td>  I.S.V. - United States Virgin Islands</td><td>5</td></tr>",
                            "<tr><td>summer</td><td> HAI - Haiti</td><td>5</td></tr>",
                            "<tr><td>summer</td><td>bih - Bosnia and Herzegovina</td><td>5</td></tr>",
                            "<tr><td>summer</td><td>CRC - Costa Rica</td><td>5</td></tr>",
                            "<tr><td>summer</td><td>ERI - Eritrea</td><td>5</td></tr>",
                            "<tr><td>summer</td><td>KGZ - Kyrgyzstan</td><td>5</td></tr>",
                            "<tr><td>summer</td><td>KSA - Saudi Arabia</td><td>5</td></tr>",
                            "<tr><td>summer</td><td>LES - Lesotho</td><td>5</td></tr>",
                            "<tr><td>summer</td><td>MRI - Mauritius</td><td>5</td></tr>",
                            "<tr><td>summer</td><td>PHI - Philippines</td><td>5</td></tr>",
                            "<tr><td>summer</td><td>PRK - North Korea</td><td>5</td></tr>",
                            "<tr><td>summer</td><td>RWA - Rwanda</td><td>5</td></tr>",
                            "<tr><td>summer</td><td>SRI - Sri Lanka</td><td>5</td></tr>",
                            "<tr><td>summer</td><td>SUD - Sudan</td><td>5</td></tr>",
                            "<tr><td>summer</td><td>tha - Thailand</td><td>5</td></tr>",
                            "<tr><td>winter</td><td>   PER - Peru</td><td>5</td></tr>",
                            "<tr><td>winter</td><td> ARM - Armenia</td><td>5</td></tr>",
                            "<tr><td>summer</td><td>     ANT - Antigua and Barbuda</td><td>5</td></tr>",
                            "<tr><td>winter</td><td>IRL - Ireland</td><td>5</td></tr>",
                            "<tr><td>winter</td><td>LIE - Liechtenstein</td><td>5</td></tr>",
                            "<tr><td>summer</td><td>MYA - Myanmar</td><td>4</td></tr>",
                            "<tr><td>summer</td><td>S.K.N. - Saint Kitts and Nevis</td><td>4</td></tr>",
                            "<tr><td>summer</td><td>SAM - Samoa</td><td>4</td></tr>",
                            "<tr><td>summer</td><td>SEN - Senegal</td><td>4</td></tr>",
                            "<tr><td>summer</td><td>SEY - Seychelles</td><td>4</td></tr>",
                            "<tr><td>summer</td><td>MNE - Montenegro</td><td>4</td></tr>",
                            "<tr><td>summer</td><td>SLE - Sierra Leone</td><td>4</td></tr>",
                            "<tr><td>summer</td><td>MLT - Malta</td><td>4</td></tr>",
                            "<tr><td>summer</td><td>MLI - Mali</td><td>4</td></tr>",
                            "<tr><td>summer</td><td>MKD - Macedonia</td><td>4</td></tr>",
                            "<tr><td>summer</td><td>SYR - Syria</td><td>4</td></tr>",
                            "<tr><td>summer</td><td>MHL - Marshall Islands</td><td>4</td></tr>",
                            "<tr><td>summer</td><td>TAN - Tanzania</td><td>4</td></tr>",
                            "<tr><td>summer</td><td>TGA - Tonga</td><td>4</td></tr>",
                            "<tr><td>summer</td><td>TJK - Tajikistan</td><td>4</td></tr>",
                            "<tr><td>summer</td><td>TKM - Turkmenistan</td><td>4</td></tr>",
                            "<tr><td>summer</td><td>TOG - Togo</td><td>4</td></tr>",
                            "<tr><td>summer</td><td>MGL - Mongolia</td><td>4</td></tr>",
                            "<tr><td>summer</td><td>MDV - Maldives</td><td>4</td></tr>",
                            "<tr><td>summer</td><td>MAW - Malawi</td><td>4</td></tr>",
                            "<tr><td>summer</td><td>MAD - Madagascar</td><td>4</td></tr>",
                            "<tr><td>summer</td><td>UAE - United Arab Emirates</td><td>4</td></tr>",
                            "<tr><td>summer</td><td>LIB - Lebanon</td><td>4</td></tr>",
                            "<tr><td>summer</td><td>VIN - Saint Vincent and the Grenadines</td><td>4</td></tr>",
                            "<tr><td>summer</td><td>KOS - Kosovo</td><td>4</td></tr>",
                            "<tr><td>summer</td><td>INA - Indonesia</td><td>4</td></tr>",
                            "<tr><td>summer</td><td>I.V.B. - British Virgin Islands</td><td>4</td></tr>",
                            "<tr><td>summer</td><td>GUM - Guam</td><td>4</td></tr>",
                            "<tr><td>summer</td><td>GUI - Guinea</td><td>4</td></tr>",
                            "<tr><td>summer</td><td>grn - grenada</td><td>4</td></tr>",
                            "<tr><td>summer</td><td>   COK - Cook Islands</td><td>4</td></tr>",
                            "<tr><td>summer</td><td>FIJ - Fiji</td><td>4</td></tr>",
                            "<tr><td>summer</td><td>F.SM. - Federated States of Micronesia</td><td>4</td></tr>",
                            "<tr><td>summer</td><td>COM - Comoros</td><td>4</td></tr>",
                            "<tr><td>summer</td><td>CGO - Congo (Brazzaville)</td><td>4</td></tr>",
                            "<tr><td>summer</td><td>CAY - Cayman Islands</td><td>4</td></tr>",
                            "<tr><td>summer</td><td>C.Af - Central African Republic</td><td>4</td></tr>",
                            "<tr><td>summer</td><td>BUR - Burkina Faso</td><td>4</td></tr>",
                            "<tr><td>winter</td><td>GEO - Georgia</td><td>4</td></tr>",
                            "<tr><td>summer</td><td>BER - Bermuda</td><td>4</td></tr>",
                            "<tr><td>summer</td><td>BEN - Benin</td><td>4</td></tr>",
                            "<tr><td>summer</td><td>BAN - Bangladesh</td><td>4</td></tr>",
                            "<tr><td>summer</td><td>     CAM - Cambodia</td><td>4</td></tr>",
                            "<tr><td>winter</td><td>UZB - Uzbekistan</td><td>4</td></tr>",
                            "<tr><td>summer</td><td>ANG - Angola</td><td>4</td></tr>",
                            "<tr><td>summer</td><td>ALB - Albania</td><td>4</td></tr>",
                            "<tr><td>winter</td><td>MAR - Morocco</td><td>4</td></tr>",
                            "<tr><td>winter</td><td>MDA - Moldova</td><td>4</td></tr>",
                            "<tr><td>winter</td><td>POR - Portugal</td><td>4</td></tr>",
                            "<tr><td>summer</td><td>  SUR - Suriname</td><td>4</td></tr>",
                            "<tr><td>summer</td><td>PAK - Pakistan</td><td>4</td></tr>",
                            "<tr><td>summer</td><td>PAR - Paraguay</td><td>4</td></tr>",
                            "<tr><td>summer</td><td>PLE - Palestine</td><td>4</td></tr>",
                            "<tr><td>summer</td><td>NIG - Niger</td><td>4</td></tr>",
                            "<tr><td>summer</td><td>NEP - Nepal</td><td>4</td></tr>",
                            "<tr><td>summer</td><td>moz- Mozambique</td><td>3</td></tr>",
                            "<tr><td>winter</td><td>tha - Thailand</td><td>3</td></tr>",
                            "<tr><td>summer</td><td>GAM - Gambia</td><td>3</td></tr>",
                            "<tr><td>summer</td><td>LBR - Liberia</td><td>3</td></tr>",
                            "<tr><td>summer</td><td>SSD - South Sudan</td><td>3</td></tr>",
                            "<tr><td>summer</td><td>LCA - Saint Lucia</td><td>3</td></tr>",
                            "<tr><td>summer</td><td>NCA - Nicaragua</td><td>3</td></tr>",
                            "<tr><td>summer</td><td>GAB - Gabon</td><td>3</td></tr>",
                            "<tr><td>summer</td><td>lao - Laos</td><td>3</td></tr>",
                            "<tr><td>winter</td><td>MNE - Montenegro</td><td>3</td></tr>",
                            "<tr><td>winter</td><td>LIB - Lebanon</td><td>3</td></tr>",
                            "<tr><td>summer</td><td>  PNG - Papua New Guinea</td><td>3</td></tr>",
                            "<tr><td>summer</td><td>JOR - Jordan</td><td>3</td></tr>",
                            "<tr><td>winter</td><td>TOG - Togo</td><td>3</td></tr>",
                            "<tr><td>summer</td><td>PLW - Palau</td><td>3</td></tr>",
                            "<tr><td>summer</td><td>HON - Honduras</td><td>3</td></tr>",
                            "<tr><td>summer</td><td>LBA - Libya</td><td>3</td></tr>",
                            "<tr><td>summer</td><td>A.Sa - American Samoa</td><td>2</td></tr>",
                            "<tr><td>summer</td><td>BRU - Brunei</td><td>2</td></tr>",
                            "<tr><td>summer</td><td>NAM - Namibia</td><td>2</td></tr>",
                            "<tr><td>summer</td><td>TLS - Timor Leste</td><td>2</td></tr>",
                            "<tr><td>summer</td><td>COD - Congo (Kinshasa)</td><td>2</td></tr>",
                            "<tr><td>summer</td><td>  G.Bs - Guinea Bissau</td><td>2</td></tr>",
                            "<tr><td>winter</td><td>ALB - Albania</td><td>2</td></tr>",
                            "<tr><td>winter</td><td>MGL - Mongolia</td><td>2</td></tr>",
                            "<tr><td>summer</td><td>DMA - Dominica</td><td>2</td></tr>",
                            "<tr><td>winter</td><td>AZE - Azerbaijan</td><td>2</td></tr>",
                            "<tr><td>summer</td><td>MTN - Mauritania</td><td>2</td></tr>",
                            "<tr><td>summer</td><td>CPV - Cape Verde</td><td>2</td></tr>",
                            "<tr><td>summer</td><td>AFG - Afghanistan</td><td>2</td></tr>",
                            "<tr><td>winter</td><td>CAY - Cayman Islands</td><td>2</td></tr>",
                            "<tr><td>summer</td><td>CMR - Cameroon</td><td>2</td></tr>",
                            "<tr><td>summer</td><td>CHA - Chad</td><td>2</td></tr>",
                            "<tr><td>summer</td><td>SOL - Solomon Islands</td><td>2</td></tr>",
                            "<tr><td>summer</td><td>SOM - Somalia</td><td>2</td></tr>",
                            "<tr><td>winter</td><td>CYP - Cyprus</td><td>2</td></tr>",
                            "<tr><td>winter</td><td>MLT - Malta</td><td>2</td></tr>",
                            "<tr><td>summer</td><td>SWZ - Swaziland</td><td>2</td></tr>",
                            "<tr><td>summer</td><td>ARU - Aruba</td><td>2</td></tr>",
                            "<tr><td>summer</td><td>LIE - Liechtenstein</td><td>2</td></tr>",
                            "<tr><td>winter</td><td>KGZ - Kyrgyzstan</td><td>2</td></tr>",
                            "<tr><td>summer</td><td>YEM - Yemen</td><td>2</td></tr>",
                            "<tr><td>summer</td><td>AND - Andorra</td><td>2</td></tr>",
                            "<tr><td>summer</td><td>KIR - Kiribati</td><td>2</td></tr>",
                            "<tr><td>summer</td><td>   S.T.P. - Sao Tome and Principe</td><td>2</td></tr>",
                            "<tr><td>winter</td><td>zim - Zimbabwe</td><td>2</td></tr>",
                            "<tr><td>summer</td><td>OMA - Oman</td><td>2</td></tr>",
                            "<tr><td>winter</td><td>  I.S.V. - United States Virgin Islands</td><td>2</td></tr>",
                            "<tr><td>summer</td><td>  BIZ - Belize</td><td>2</td></tr>",
                            "<tr><td>winter</td><td>  nzl - new zealand</td><td>2</td></tr>",
                            "<tr><td>winter</td><td>IND - India</td><td>2</td></tr>",
                            "<tr><td>winter</td><td>SMR - San Marino</td><td>2</td></tr>",
                            "<tr><td>summer</td><td>  I.O.A. - Individual Olympic Athletes</td><td>2</td></tr>",
                            "<tr><td>winter</td><td>PAK - Pakistan</td><td>1</td></tr>",
                            "<tr><td>winter</td><td>NEP - Nepal</td><td>1</td></tr>",
                            "<tr><td>winter</td><td>  VEN - Venezuela</td><td>1</td></tr>",
                            "<tr><td>summer</td><td>SMR - San Marino</td><td>1</td></tr>",
                            "<tr><td>summer</td><td>TUV - Tuvalu</td><td>1</td></tr>",
                            "<tr><td>summer</td><td>GEQ - Equatorial Guinea</td><td>1</td></tr>",
                            "<tr><td>winter</td><td>MEX - Mexico</td><td>1</td></tr>",
                            "<tr><td>winter</td><td>LUX - Luxembourg</td><td>1</td></tr>",
                            "<tr><td>winter</td><td>DMA - Dominica</td><td>1</td></tr>",
                            "<tr><td>winter</td><td>TLS - Timor Leste</td><td>1</td></tr>",
                            "<tr><td>winter</td><td>TJK - Tajikistan</td><td>1</td></tr>",
                            "<tr><td>winter</td><td>BER - Bermuda</td><td>1</td></tr>",
                            "</table>"
                        ]
                    }
                }
            ],
            "execution_count": 57
        }
    ]
}